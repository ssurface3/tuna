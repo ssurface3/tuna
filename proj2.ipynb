{
 "cells": [
  {
   "cell_type": "markdown",
   "metadata": {
    "toc": true
   },
   "source": [
    "<h1>Содержание<span class=\"tocSkip\"></span></h1>\n",
    "<div class=\"toc\"><ul class=\"toc-item\"><li><span><a href=\"#Подготовка-данных\" data-toc-modified-id=\"Подготовка-данных-1\"><span class=\"toc-item-num\">1&nbsp;&nbsp;</span>Подготовка данных</a></span></li><li><span><a href=\"#Исследование-задачи\" data-toc-modified-id=\"Исследование-задачи-2\"><span class=\"toc-item-num\">2&nbsp;&nbsp;</span>Исследование задачи</a></span></li><li><span><a href=\"#Борьба-с-дисбалансом\" data-toc-modified-id=\"Борьба-с-дисбалансом-3\"><span class=\"toc-item-num\">3&nbsp;&nbsp;</span>Борьба с дисбалансом</a></span><ul class=\"toc-item\"><li><span><a href=\"#Upsampling\" data-toc-modified-id=\"Upsampling-3.1\"><span class=\"toc-item-num\">3.1&nbsp;&nbsp;</span>Upsampling</a></span><ul class=\"toc-item\"><li><span><a href=\"#DecisionTree\" data-toc-modified-id=\"DecisionTree-3.1.1\"><span class=\"toc-item-num\">3.1.1&nbsp;&nbsp;</span>DecisionTree</a></span></li><li><span><a href=\"#Random-Forest\" data-toc-modified-id=\"Random-Forest-3.1.2\"><span class=\"toc-item-num\">3.1.2&nbsp;&nbsp;</span>Random Forest</a></span></li></ul></li><li><span><a href=\"#Downsampling\" data-toc-modified-id=\"Downsampling-3.2\"><span class=\"toc-item-num\">3.2&nbsp;&nbsp;</span>Downsampling</a></span><ul class=\"toc-item\"><li><span><a href=\"#Decision-Tree\" data-toc-modified-id=\"Decision-Tree-3.2.1\"><span class=\"toc-item-num\">3.2.1&nbsp;&nbsp;</span>Decision Tree</a></span></li><li><span><a href=\"#Random-Forest\" data-toc-modified-id=\"Random-Forest-3.2.2\"><span class=\"toc-item-num\">3.2.2&nbsp;&nbsp;</span>Random Forest</a></span></li></ul></li><li><span><a href=\"#Class-weight\" data-toc-modified-id=\"Class-weight-3.3\"><span class=\"toc-item-num\">3.3&nbsp;&nbsp;</span>Class weight</a></span></li></ul></li><li><span><a href=\"#Тестирование-модели\" data-toc-modified-id=\"Тестирование-модели-4\"><span class=\"toc-item-num\">4&nbsp;&nbsp;</span>Тестирование модели</a></span></li><li><span><a href=\"#Чек-лист-готовности-проекта\" data-toc-modified-id=\"Чек-лист-готовности-проекта-5\"><span class=\"toc-item-num\">5&nbsp;&nbsp;</span>Чек-лист готовности проекта</a></span></li></ul></div>"
   ]
  },
  {
   "cell_type": "markdown",
   "metadata": {},
   "source": [
    "# Отток клиентов"
   ]
  },
  {
   "cell_type": "markdown",
   "metadata": {},
   "source": [
    "Из «Бета-Банка» стали уходить клиенты. Каждый месяц. Немного, но заметно. Банковские маркетологи посчитали: сохранять текущих клиентов дешевле, чем привлекать новых.\n",
    "\n",
    "Нужно спрогнозировать, уйдёт клиент из банка в ближайшее время или нет. Вам предоставлены исторические данные о поведении клиентов и расторжении договоров с банком. \n",
    "\n",
    "Постройте модель с предельно большим значением *F1*-меры. Чтобы сдать проект успешно, нужно довести метрику до 0.59. Проверьте *F1*-меру на тестовой выборке самостоятельно.\n",
    "\n",
    "Дополнительно измеряйте *AUC-ROC*, сравнивайте её значение с *F1*-мерой.\n",
    "\n",
    "Источник данных: [https://www.kaggle.com/barelydedicated/bank-customer-churn-modeling](https://www.kaggle.com/barelydedicated/bank-customer-churn-modeling)"
   ]
  },
  {
   "cell_type": "code",
   "execution_count": 1,
   "metadata": {},
   "outputs": [],
   "source": [
    "import pandas as pd\n",
    "from sklearn.preprocessing import StandardScaler, OneHotEncoder\n",
    "from sklearn.model_selection import train_test_split\n",
    "from sklearn.linear_model import LogisticRegression\n",
    "from sklearn.metrics import accuracy_score\n",
    "from sklearn.metrics import f1_score\n",
    "from sklearn.metrics import precision_score, recall_score\n",
    "import numpy as np\n",
    "from sklearn.ensemble import RandomForestClassifier\n",
    "from sklearn.tree import DecisionTreeClassifier\n",
    "from sklearn.utils import shuffle\n",
    "from sklearn.metrics import roc_auc_score,roc_curve,auc\n",
    "import matplotlib.pyplot as plt"
   ]
  },
  {
   "cell_type": "markdown",
   "metadata": {},
   "source": [
    "## Подготовка данных"
   ]
  },
  {
   "cell_type": "code",
   "execution_count": 2,
   "metadata": {},
   "outputs": [
    {
     "data": {
      "text/html": [
       "<div>\n",
       "<style scoped>\n",
       "    .dataframe tbody tr th:only-of-type {\n",
       "        vertical-align: middle;\n",
       "    }\n",
       "\n",
       "    .dataframe tbody tr th {\n",
       "        vertical-align: top;\n",
       "    }\n",
       "\n",
       "    .dataframe thead th {\n",
       "        text-align: right;\n",
       "    }\n",
       "</style>\n",
       "<table border=\"1\" class=\"dataframe\">\n",
       "  <thead>\n",
       "    <tr style=\"text-align: right;\">\n",
       "      <th></th>\n",
       "      <th>RowNumber</th>\n",
       "      <th>CustomerId</th>\n",
       "      <th>Surname</th>\n",
       "      <th>CreditScore</th>\n",
       "      <th>Geography</th>\n",
       "      <th>Gender</th>\n",
       "      <th>Age</th>\n",
       "      <th>Tenure</th>\n",
       "      <th>Balance</th>\n",
       "      <th>NumOfProducts</th>\n",
       "      <th>HasCrCard</th>\n",
       "      <th>IsActiveMember</th>\n",
       "      <th>EstimatedSalary</th>\n",
       "      <th>Exited</th>\n",
       "    </tr>\n",
       "  </thead>\n",
       "  <tbody>\n",
       "    <tr>\n",
       "      <th>0</th>\n",
       "      <td>1</td>\n",
       "      <td>15634602</td>\n",
       "      <td>Hargrave</td>\n",
       "      <td>619</td>\n",
       "      <td>France</td>\n",
       "      <td>Female</td>\n",
       "      <td>42</td>\n",
       "      <td>2.0</td>\n",
       "      <td>0.00</td>\n",
       "      <td>1</td>\n",
       "      <td>1</td>\n",
       "      <td>1</td>\n",
       "      <td>101348.88</td>\n",
       "      <td>1</td>\n",
       "    </tr>\n",
       "    <tr>\n",
       "      <th>1</th>\n",
       "      <td>2</td>\n",
       "      <td>15647311</td>\n",
       "      <td>Hill</td>\n",
       "      <td>608</td>\n",
       "      <td>Spain</td>\n",
       "      <td>Female</td>\n",
       "      <td>41</td>\n",
       "      <td>1.0</td>\n",
       "      <td>83807.86</td>\n",
       "      <td>1</td>\n",
       "      <td>0</td>\n",
       "      <td>1</td>\n",
       "      <td>112542.58</td>\n",
       "      <td>0</td>\n",
       "    </tr>\n",
       "    <tr>\n",
       "      <th>2</th>\n",
       "      <td>3</td>\n",
       "      <td>15619304</td>\n",
       "      <td>Onio</td>\n",
       "      <td>502</td>\n",
       "      <td>France</td>\n",
       "      <td>Female</td>\n",
       "      <td>42</td>\n",
       "      <td>8.0</td>\n",
       "      <td>159660.80</td>\n",
       "      <td>3</td>\n",
       "      <td>1</td>\n",
       "      <td>0</td>\n",
       "      <td>113931.57</td>\n",
       "      <td>1</td>\n",
       "    </tr>\n",
       "    <tr>\n",
       "      <th>3</th>\n",
       "      <td>4</td>\n",
       "      <td>15701354</td>\n",
       "      <td>Boni</td>\n",
       "      <td>699</td>\n",
       "      <td>France</td>\n",
       "      <td>Female</td>\n",
       "      <td>39</td>\n",
       "      <td>1.0</td>\n",
       "      <td>0.00</td>\n",
       "      <td>2</td>\n",
       "      <td>0</td>\n",
       "      <td>0</td>\n",
       "      <td>93826.63</td>\n",
       "      <td>0</td>\n",
       "    </tr>\n",
       "    <tr>\n",
       "      <th>4</th>\n",
       "      <td>5</td>\n",
       "      <td>15737888</td>\n",
       "      <td>Mitchell</td>\n",
       "      <td>850</td>\n",
       "      <td>Spain</td>\n",
       "      <td>Female</td>\n",
       "      <td>43</td>\n",
       "      <td>2.0</td>\n",
       "      <td>125510.82</td>\n",
       "      <td>1</td>\n",
       "      <td>1</td>\n",
       "      <td>1</td>\n",
       "      <td>79084.10</td>\n",
       "      <td>0</td>\n",
       "    </tr>\n",
       "  </tbody>\n",
       "</table>\n",
       "</div>"
      ],
      "text/plain": [
       "   RowNumber  CustomerId   Surname  CreditScore Geography  Gender  Age  \\\n",
       "0          1    15634602  Hargrave          619    France  Female   42   \n",
       "1          2    15647311      Hill          608     Spain  Female   41   \n",
       "2          3    15619304      Onio          502    France  Female   42   \n",
       "3          4    15701354      Boni          699    France  Female   39   \n",
       "4          5    15737888  Mitchell          850     Spain  Female   43   \n",
       "\n",
       "   Tenure    Balance  NumOfProducts  HasCrCard  IsActiveMember  \\\n",
       "0     2.0       0.00              1          1               1   \n",
       "1     1.0   83807.86              1          0               1   \n",
       "2     8.0  159660.80              3          1               0   \n",
       "3     1.0       0.00              2          0               0   \n",
       "4     2.0  125510.82              1          1               1   \n",
       "\n",
       "   EstimatedSalary  Exited  \n",
       "0        101348.88       1  \n",
       "1        112542.58       0  \n",
       "2        113931.57       1  \n",
       "3         93826.63       0  \n",
       "4         79084.10       0  "
      ]
     },
     "execution_count": 2,
     "metadata": {},
     "output_type": "execute_result"
    }
   ],
   "source": [
    "data= pd.read_csv('/datasets/Churn.csv')\n",
    "data.head()"
   ]
  },
  {
   "cell_type": "code",
   "execution_count": 3,
   "metadata": {},
   "outputs": [
    {
     "data": {
      "text/plain": [
       "(10000, 14)"
      ]
     },
     "execution_count": 3,
     "metadata": {},
     "output_type": "execute_result"
    }
   ],
   "source": [
    "data.shape"
   ]
  },
  {
   "cell_type": "markdown",
   "metadata": {},
   "source": [
    "- id пользователя банка не влият на его решение, также как и фамилия, так что можно отказаться от этого\n"
   ]
  },
  {
   "cell_type": "code",
   "execution_count": 4,
   "metadata": {},
   "outputs": [
    {
     "name": "stdout",
     "output_type": "stream",
     "text": [
      "<class 'pandas.core.frame.DataFrame'>\n",
      "RangeIndex: 10000 entries, 0 to 9999\n",
      "Data columns (total 14 columns):\n",
      " #   Column           Non-Null Count  Dtype  \n",
      "---  ------           --------------  -----  \n",
      " 0   RowNumber        10000 non-null  int64  \n",
      " 1   CustomerId       10000 non-null  int64  \n",
      " 2   Surname          10000 non-null  object \n",
      " 3   CreditScore      10000 non-null  int64  \n",
      " 4   Geography        10000 non-null  object \n",
      " 5   Gender           10000 non-null  object \n",
      " 6   Age              10000 non-null  int64  \n",
      " 7   Tenure           9091 non-null   float64\n",
      " 8   Balance          10000 non-null  float64\n",
      " 9   NumOfProducts    10000 non-null  int64  \n",
      " 10  HasCrCard        10000 non-null  int64  \n",
      " 11  IsActiveMember   10000 non-null  int64  \n",
      " 12  EstimatedSalary  10000 non-null  float64\n",
      " 13  Exited           10000 non-null  int64  \n",
      "dtypes: float64(3), int64(8), object(3)\n",
      "memory usage: 1.1+ MB\n"
     ]
    }
   ],
   "source": [
    "data.info()"
   ]
  },
  {
   "cell_type": "code",
   "execution_count": 5,
   "metadata": {},
   "outputs": [
    {
     "data": {
      "text/html": [
       "<div>\n",
       "<style scoped>\n",
       "    .dataframe tbody tr th:only-of-type {\n",
       "        vertical-align: middle;\n",
       "    }\n",
       "\n",
       "    .dataframe tbody tr th {\n",
       "        vertical-align: top;\n",
       "    }\n",
       "\n",
       "    .dataframe thead th {\n",
       "        text-align: right;\n",
       "    }\n",
       "</style>\n",
       "<table border=\"1\" class=\"dataframe\">\n",
       "  <thead>\n",
       "    <tr style=\"text-align: right;\">\n",
       "      <th></th>\n",
       "      <th>RowNumber</th>\n",
       "      <th>CustomerId</th>\n",
       "      <th>CreditScore</th>\n",
       "      <th>Age</th>\n",
       "      <th>Tenure</th>\n",
       "      <th>Balance</th>\n",
       "      <th>NumOfProducts</th>\n",
       "      <th>HasCrCard</th>\n",
       "      <th>IsActiveMember</th>\n",
       "      <th>EstimatedSalary</th>\n",
       "      <th>Exited</th>\n",
       "    </tr>\n",
       "  </thead>\n",
       "  <tbody>\n",
       "    <tr>\n",
       "      <th>count</th>\n",
       "      <td>10000.00000</td>\n",
       "      <td>1.000000e+04</td>\n",
       "      <td>10000.000000</td>\n",
       "      <td>10000.000000</td>\n",
       "      <td>9091.000000</td>\n",
       "      <td>10000.000000</td>\n",
       "      <td>10000.000000</td>\n",
       "      <td>10000.00000</td>\n",
       "      <td>10000.000000</td>\n",
       "      <td>10000.000000</td>\n",
       "      <td>10000.000000</td>\n",
       "    </tr>\n",
       "    <tr>\n",
       "      <th>mean</th>\n",
       "      <td>5000.50000</td>\n",
       "      <td>1.569094e+07</td>\n",
       "      <td>650.528800</td>\n",
       "      <td>38.921800</td>\n",
       "      <td>4.997690</td>\n",
       "      <td>76485.889288</td>\n",
       "      <td>1.530200</td>\n",
       "      <td>0.70550</td>\n",
       "      <td>0.515100</td>\n",
       "      <td>100090.239881</td>\n",
       "      <td>0.203700</td>\n",
       "    </tr>\n",
       "    <tr>\n",
       "      <th>std</th>\n",
       "      <td>2886.89568</td>\n",
       "      <td>7.193619e+04</td>\n",
       "      <td>96.653299</td>\n",
       "      <td>10.487806</td>\n",
       "      <td>2.894723</td>\n",
       "      <td>62397.405202</td>\n",
       "      <td>0.581654</td>\n",
       "      <td>0.45584</td>\n",
       "      <td>0.499797</td>\n",
       "      <td>57510.492818</td>\n",
       "      <td>0.402769</td>\n",
       "    </tr>\n",
       "    <tr>\n",
       "      <th>min</th>\n",
       "      <td>1.00000</td>\n",
       "      <td>1.556570e+07</td>\n",
       "      <td>350.000000</td>\n",
       "      <td>18.000000</td>\n",
       "      <td>0.000000</td>\n",
       "      <td>0.000000</td>\n",
       "      <td>1.000000</td>\n",
       "      <td>0.00000</td>\n",
       "      <td>0.000000</td>\n",
       "      <td>11.580000</td>\n",
       "      <td>0.000000</td>\n",
       "    </tr>\n",
       "    <tr>\n",
       "      <th>25%</th>\n",
       "      <td>2500.75000</td>\n",
       "      <td>1.562853e+07</td>\n",
       "      <td>584.000000</td>\n",
       "      <td>32.000000</td>\n",
       "      <td>2.000000</td>\n",
       "      <td>0.000000</td>\n",
       "      <td>1.000000</td>\n",
       "      <td>0.00000</td>\n",
       "      <td>0.000000</td>\n",
       "      <td>51002.110000</td>\n",
       "      <td>0.000000</td>\n",
       "    </tr>\n",
       "    <tr>\n",
       "      <th>50%</th>\n",
       "      <td>5000.50000</td>\n",
       "      <td>1.569074e+07</td>\n",
       "      <td>652.000000</td>\n",
       "      <td>37.000000</td>\n",
       "      <td>5.000000</td>\n",
       "      <td>97198.540000</td>\n",
       "      <td>1.000000</td>\n",
       "      <td>1.00000</td>\n",
       "      <td>1.000000</td>\n",
       "      <td>100193.915000</td>\n",
       "      <td>0.000000</td>\n",
       "    </tr>\n",
       "    <tr>\n",
       "      <th>75%</th>\n",
       "      <td>7500.25000</td>\n",
       "      <td>1.575323e+07</td>\n",
       "      <td>718.000000</td>\n",
       "      <td>44.000000</td>\n",
       "      <td>7.000000</td>\n",
       "      <td>127644.240000</td>\n",
       "      <td>2.000000</td>\n",
       "      <td>1.00000</td>\n",
       "      <td>1.000000</td>\n",
       "      <td>149388.247500</td>\n",
       "      <td>0.000000</td>\n",
       "    </tr>\n",
       "    <tr>\n",
       "      <th>max</th>\n",
       "      <td>10000.00000</td>\n",
       "      <td>1.581569e+07</td>\n",
       "      <td>850.000000</td>\n",
       "      <td>92.000000</td>\n",
       "      <td>10.000000</td>\n",
       "      <td>250898.090000</td>\n",
       "      <td>4.000000</td>\n",
       "      <td>1.00000</td>\n",
       "      <td>1.000000</td>\n",
       "      <td>199992.480000</td>\n",
       "      <td>1.000000</td>\n",
       "    </tr>\n",
       "  </tbody>\n",
       "</table>\n",
       "</div>"
      ],
      "text/plain": [
       "         RowNumber    CustomerId   CreditScore           Age       Tenure  \\\n",
       "count  10000.00000  1.000000e+04  10000.000000  10000.000000  9091.000000   \n",
       "mean    5000.50000  1.569094e+07    650.528800     38.921800     4.997690   \n",
       "std     2886.89568  7.193619e+04     96.653299     10.487806     2.894723   \n",
       "min        1.00000  1.556570e+07    350.000000     18.000000     0.000000   \n",
       "25%     2500.75000  1.562853e+07    584.000000     32.000000     2.000000   \n",
       "50%     5000.50000  1.569074e+07    652.000000     37.000000     5.000000   \n",
       "75%     7500.25000  1.575323e+07    718.000000     44.000000     7.000000   \n",
       "max    10000.00000  1.581569e+07    850.000000     92.000000    10.000000   \n",
       "\n",
       "             Balance  NumOfProducts    HasCrCard  IsActiveMember  \\\n",
       "count   10000.000000   10000.000000  10000.00000    10000.000000   \n",
       "mean    76485.889288       1.530200      0.70550        0.515100   \n",
       "std     62397.405202       0.581654      0.45584        0.499797   \n",
       "min         0.000000       1.000000      0.00000        0.000000   \n",
       "25%         0.000000       1.000000      0.00000        0.000000   \n",
       "50%     97198.540000       1.000000      1.00000        1.000000   \n",
       "75%    127644.240000       2.000000      1.00000        1.000000   \n",
       "max    250898.090000       4.000000      1.00000        1.000000   \n",
       "\n",
       "       EstimatedSalary        Exited  \n",
       "count     10000.000000  10000.000000  \n",
       "mean     100090.239881      0.203700  \n",
       "std       57510.492818      0.402769  \n",
       "min          11.580000      0.000000  \n",
       "25%       51002.110000      0.000000  \n",
       "50%      100193.915000      0.000000  \n",
       "75%      149388.247500      0.000000  \n",
       "max      199992.480000      1.000000  "
      ]
     },
     "execution_count": 5,
     "metadata": {},
     "output_type": "execute_result"
    }
   ],
   "source": [
    "data.describe()"
   ]
  },
  {
   "cell_type": "code",
   "execution_count": 6,
   "metadata": {},
   "outputs": [
    {
     "data": {
      "text/html": [
       "<div>\n",
       "<style scoped>\n",
       "    .dataframe tbody tr th:only-of-type {\n",
       "        vertical-align: middle;\n",
       "    }\n",
       "\n",
       "    .dataframe tbody tr th {\n",
       "        vertical-align: top;\n",
       "    }\n",
       "\n",
       "    .dataframe thead th {\n",
       "        text-align: right;\n",
       "    }\n",
       "</style>\n",
       "<table border=\"1\" class=\"dataframe\">\n",
       "  <thead>\n",
       "    <tr style=\"text-align: right;\">\n",
       "      <th></th>\n",
       "      <th>CreditScore</th>\n",
       "      <th>Geography</th>\n",
       "      <th>Gender</th>\n",
       "      <th>Age</th>\n",
       "      <th>Tenure</th>\n",
       "      <th>Balance</th>\n",
       "      <th>NumOfProducts</th>\n",
       "      <th>HasCrCard</th>\n",
       "      <th>IsActiveMember</th>\n",
       "      <th>EstimatedSalary</th>\n",
       "      <th>Exited</th>\n",
       "    </tr>\n",
       "  </thead>\n",
       "  <tbody>\n",
       "    <tr>\n",
       "      <th>0</th>\n",
       "      <td>619</td>\n",
       "      <td>France</td>\n",
       "      <td>Female</td>\n",
       "      <td>42</td>\n",
       "      <td>2.0</td>\n",
       "      <td>0.00</td>\n",
       "      <td>1</td>\n",
       "      <td>1</td>\n",
       "      <td>1</td>\n",
       "      <td>101348.88</td>\n",
       "      <td>1</td>\n",
       "    </tr>\n",
       "    <tr>\n",
       "      <th>1</th>\n",
       "      <td>608</td>\n",
       "      <td>Spain</td>\n",
       "      <td>Female</td>\n",
       "      <td>41</td>\n",
       "      <td>1.0</td>\n",
       "      <td>83807.86</td>\n",
       "      <td>1</td>\n",
       "      <td>0</td>\n",
       "      <td>1</td>\n",
       "      <td>112542.58</td>\n",
       "      <td>0</td>\n",
       "    </tr>\n",
       "    <tr>\n",
       "      <th>2</th>\n",
       "      <td>502</td>\n",
       "      <td>France</td>\n",
       "      <td>Female</td>\n",
       "      <td>42</td>\n",
       "      <td>8.0</td>\n",
       "      <td>159660.80</td>\n",
       "      <td>3</td>\n",
       "      <td>1</td>\n",
       "      <td>0</td>\n",
       "      <td>113931.57</td>\n",
       "      <td>1</td>\n",
       "    </tr>\n",
       "    <tr>\n",
       "      <th>3</th>\n",
       "      <td>699</td>\n",
       "      <td>France</td>\n",
       "      <td>Female</td>\n",
       "      <td>39</td>\n",
       "      <td>1.0</td>\n",
       "      <td>0.00</td>\n",
       "      <td>2</td>\n",
       "      <td>0</td>\n",
       "      <td>0</td>\n",
       "      <td>93826.63</td>\n",
       "      <td>0</td>\n",
       "    </tr>\n",
       "    <tr>\n",
       "      <th>4</th>\n",
       "      <td>850</td>\n",
       "      <td>Spain</td>\n",
       "      <td>Female</td>\n",
       "      <td>43</td>\n",
       "      <td>2.0</td>\n",
       "      <td>125510.82</td>\n",
       "      <td>1</td>\n",
       "      <td>1</td>\n",
       "      <td>1</td>\n",
       "      <td>79084.10</td>\n",
       "      <td>0</td>\n",
       "    </tr>\n",
       "  </tbody>\n",
       "</table>\n",
       "</div>"
      ],
      "text/plain": [
       "   CreditScore Geography  Gender  Age  Tenure    Balance  NumOfProducts  \\\n",
       "0          619    France  Female   42     2.0       0.00              1   \n",
       "1          608     Spain  Female   41     1.0   83807.86              1   \n",
       "2          502    France  Female   42     8.0  159660.80              3   \n",
       "3          699    France  Female   39     1.0       0.00              2   \n",
       "4          850     Spain  Female   43     2.0  125510.82              1   \n",
       "\n",
       "   HasCrCard  IsActiveMember  EstimatedSalary  Exited  \n",
       "0          1               1        101348.88       1  \n",
       "1          0               1        112542.58       0  \n",
       "2          1               0        113931.57       1  \n",
       "3          0               0         93826.63       0  \n",
       "4          1               1         79084.10       0  "
      ]
     },
     "execution_count": 6,
     "metadata": {},
     "output_type": "execute_result"
    }
   ],
   "source": [
    "data = data.drop(['Surname','CustomerId','RowNumber'],axis = 1)\n",
    "data.head()"
   ]
  },
  {
   "cell_type": "markdown",
   "metadata": {},
   "source": [
    "Заполнил пропуски "
   ]
  },
  {
   "cell_type": "code",
   "execution_count": 7,
   "metadata": {},
   "outputs": [],
   "source": [
    "data['Tenure']= data['Tenure'].fillna(data['Tenure'].median())"
   ]
  },
  {
   "cell_type": "code",
   "execution_count": 8,
   "metadata": {},
   "outputs": [
    {
     "data": {
      "text/plain": [
       "False    10000\n",
       "Name: Tenure, dtype: int64"
      ]
     },
     "execution_count": 8,
     "metadata": {},
     "output_type": "execute_result"
    }
   ],
   "source": [
    "data['Tenure'].isna().value_counts()"
   ]
  },
  {
   "cell_type": "markdown",
   "metadata": {},
   "source": [
    "- теперь нужно преобразовать категориальные данные как гендер в дамми - переменные"
   ]
  },
  {
   "cell_type": "code",
   "execution_count": 9,
   "metadata": {},
   "outputs": [
    {
     "data": {
      "text/plain": [
       "OneHotEncoder(sparse=False)"
      ]
     },
     "execution_count": 9,
     "metadata": {},
     "output_type": "execute_result"
    }
   ],
   "source": [
    "enc = OneHotEncoder(sparse = False)\n",
    "columns_encoded = ['Geography','Gender']\n",
    "enc.fit(data[columns_encoded])"
   ]
  },
  {
   "cell_type": "code",
   "execution_count": 10,
   "metadata": {},
   "outputs": [
    {
     "data": {
      "text/html": [
       "<div>\n",
       "<style scoped>\n",
       "    .dataframe tbody tr th:only-of-type {\n",
       "        vertical-align: middle;\n",
       "    }\n",
       "\n",
       "    .dataframe tbody tr th {\n",
       "        vertical-align: top;\n",
       "    }\n",
       "\n",
       "    .dataframe thead th {\n",
       "        text-align: right;\n",
       "    }\n",
       "</style>\n",
       "<table border=\"1\" class=\"dataframe\">\n",
       "  <thead>\n",
       "    <tr style=\"text-align: right;\">\n",
       "      <th></th>\n",
       "      <th>Geography_France</th>\n",
       "      <th>Geography_Germany</th>\n",
       "      <th>Geography_Spain</th>\n",
       "      <th>Gender_Female</th>\n",
       "      <th>Gender_Male</th>\n",
       "    </tr>\n",
       "  </thead>\n",
       "  <tbody>\n",
       "    <tr>\n",
       "      <th>0</th>\n",
       "      <td>1.0</td>\n",
       "      <td>0.0</td>\n",
       "      <td>0.0</td>\n",
       "      <td>1.0</td>\n",
       "      <td>0.0</td>\n",
       "    </tr>\n",
       "    <tr>\n",
       "      <th>1</th>\n",
       "      <td>0.0</td>\n",
       "      <td>0.0</td>\n",
       "      <td>1.0</td>\n",
       "      <td>1.0</td>\n",
       "      <td>0.0</td>\n",
       "    </tr>\n",
       "    <tr>\n",
       "      <th>2</th>\n",
       "      <td>1.0</td>\n",
       "      <td>0.0</td>\n",
       "      <td>0.0</td>\n",
       "      <td>1.0</td>\n",
       "      <td>0.0</td>\n",
       "    </tr>\n",
       "    <tr>\n",
       "      <th>3</th>\n",
       "      <td>1.0</td>\n",
       "      <td>0.0</td>\n",
       "      <td>0.0</td>\n",
       "      <td>1.0</td>\n",
       "      <td>0.0</td>\n",
       "    </tr>\n",
       "    <tr>\n",
       "      <th>4</th>\n",
       "      <td>0.0</td>\n",
       "      <td>0.0</td>\n",
       "      <td>1.0</td>\n",
       "      <td>1.0</td>\n",
       "      <td>0.0</td>\n",
       "    </tr>\n",
       "    <tr>\n",
       "      <th>...</th>\n",
       "      <td>...</td>\n",
       "      <td>...</td>\n",
       "      <td>...</td>\n",
       "      <td>...</td>\n",
       "      <td>...</td>\n",
       "    </tr>\n",
       "    <tr>\n",
       "      <th>9995</th>\n",
       "      <td>1.0</td>\n",
       "      <td>0.0</td>\n",
       "      <td>0.0</td>\n",
       "      <td>0.0</td>\n",
       "      <td>1.0</td>\n",
       "    </tr>\n",
       "    <tr>\n",
       "      <th>9996</th>\n",
       "      <td>1.0</td>\n",
       "      <td>0.0</td>\n",
       "      <td>0.0</td>\n",
       "      <td>0.0</td>\n",
       "      <td>1.0</td>\n",
       "    </tr>\n",
       "    <tr>\n",
       "      <th>9997</th>\n",
       "      <td>1.0</td>\n",
       "      <td>0.0</td>\n",
       "      <td>0.0</td>\n",
       "      <td>1.0</td>\n",
       "      <td>0.0</td>\n",
       "    </tr>\n",
       "    <tr>\n",
       "      <th>9998</th>\n",
       "      <td>0.0</td>\n",
       "      <td>1.0</td>\n",
       "      <td>0.0</td>\n",
       "      <td>0.0</td>\n",
       "      <td>1.0</td>\n",
       "    </tr>\n",
       "    <tr>\n",
       "      <th>9999</th>\n",
       "      <td>1.0</td>\n",
       "      <td>0.0</td>\n",
       "      <td>0.0</td>\n",
       "      <td>1.0</td>\n",
       "      <td>0.0</td>\n",
       "    </tr>\n",
       "  </tbody>\n",
       "</table>\n",
       "<p>10000 rows × 5 columns</p>\n",
       "</div>"
      ],
      "text/plain": [
       "      Geography_France  Geography_Germany  Geography_Spain  Gender_Female  \\\n",
       "0                  1.0                0.0              0.0            1.0   \n",
       "1                  0.0                0.0              1.0            1.0   \n",
       "2                  1.0                0.0              0.0            1.0   \n",
       "3                  1.0                0.0              0.0            1.0   \n",
       "4                  0.0                0.0              1.0            1.0   \n",
       "...                ...                ...              ...            ...   \n",
       "9995               1.0                0.0              0.0            0.0   \n",
       "9996               1.0                0.0              0.0            0.0   \n",
       "9997               1.0                0.0              0.0            1.0   \n",
       "9998               0.0                1.0              0.0            0.0   \n",
       "9999               1.0                0.0              0.0            1.0   \n",
       "\n",
       "      Gender_Male  \n",
       "0             0.0  \n",
       "1             0.0  \n",
       "2             0.0  \n",
       "3             0.0  \n",
       "4             0.0  \n",
       "...           ...  \n",
       "9995          1.0  \n",
       "9996          1.0  \n",
       "9997          0.0  \n",
       "9998          1.0  \n",
       "9999          0.0  \n",
       "\n",
       "[10000 rows x 5 columns]"
      ]
     },
     "execution_count": 10,
     "metadata": {},
     "output_type": "execute_result"
    }
   ],
   "source": [
    "enc_df = pd.DataFrame(enc.fit_transform(data[columns_encoded]),columns = enc.get_feature_names(columns_encoded))\n",
    "enc_df"
   ]
  },
  {
   "cell_type": "code",
   "execution_count": 11,
   "metadata": {},
   "outputs": [
    {
     "data": {
      "text/html": [
       "<div>\n",
       "<style scoped>\n",
       "    .dataframe tbody tr th:only-of-type {\n",
       "        vertical-align: middle;\n",
       "    }\n",
       "\n",
       "    .dataframe tbody tr th {\n",
       "        vertical-align: top;\n",
       "    }\n",
       "\n",
       "    .dataframe thead th {\n",
       "        text-align: right;\n",
       "    }\n",
       "</style>\n",
       "<table border=\"1\" class=\"dataframe\">\n",
       "  <thead>\n",
       "    <tr style=\"text-align: right;\">\n",
       "      <th></th>\n",
       "      <th>CreditScore</th>\n",
       "      <th>Age</th>\n",
       "      <th>Tenure</th>\n",
       "      <th>Balance</th>\n",
       "      <th>NumOfProducts</th>\n",
       "      <th>HasCrCard</th>\n",
       "      <th>IsActiveMember</th>\n",
       "      <th>EstimatedSalary</th>\n",
       "      <th>Exited</th>\n",
       "    </tr>\n",
       "  </thead>\n",
       "  <tbody>\n",
       "    <tr>\n",
       "      <th>0</th>\n",
       "      <td>619</td>\n",
       "      <td>42</td>\n",
       "      <td>2.0</td>\n",
       "      <td>0.00</td>\n",
       "      <td>1</td>\n",
       "      <td>1</td>\n",
       "      <td>1</td>\n",
       "      <td>101348.88</td>\n",
       "      <td>1</td>\n",
       "    </tr>\n",
       "    <tr>\n",
       "      <th>1</th>\n",
       "      <td>608</td>\n",
       "      <td>41</td>\n",
       "      <td>1.0</td>\n",
       "      <td>83807.86</td>\n",
       "      <td>1</td>\n",
       "      <td>0</td>\n",
       "      <td>1</td>\n",
       "      <td>112542.58</td>\n",
       "      <td>0</td>\n",
       "    </tr>\n",
       "    <tr>\n",
       "      <th>2</th>\n",
       "      <td>502</td>\n",
       "      <td>42</td>\n",
       "      <td>8.0</td>\n",
       "      <td>159660.80</td>\n",
       "      <td>3</td>\n",
       "      <td>1</td>\n",
       "      <td>0</td>\n",
       "      <td>113931.57</td>\n",
       "      <td>1</td>\n",
       "    </tr>\n",
       "    <tr>\n",
       "      <th>3</th>\n",
       "      <td>699</td>\n",
       "      <td>39</td>\n",
       "      <td>1.0</td>\n",
       "      <td>0.00</td>\n",
       "      <td>2</td>\n",
       "      <td>0</td>\n",
       "      <td>0</td>\n",
       "      <td>93826.63</td>\n",
       "      <td>0</td>\n",
       "    </tr>\n",
       "    <tr>\n",
       "      <th>4</th>\n",
       "      <td>850</td>\n",
       "      <td>43</td>\n",
       "      <td>2.0</td>\n",
       "      <td>125510.82</td>\n",
       "      <td>1</td>\n",
       "      <td>1</td>\n",
       "      <td>1</td>\n",
       "      <td>79084.10</td>\n",
       "      <td>0</td>\n",
       "    </tr>\n",
       "  </tbody>\n",
       "</table>\n",
       "</div>"
      ],
      "text/plain": [
       "   CreditScore  Age  Tenure    Balance  NumOfProducts  HasCrCard  \\\n",
       "0          619   42     2.0       0.00              1          1   \n",
       "1          608   41     1.0   83807.86              1          0   \n",
       "2          502   42     8.0  159660.80              3          1   \n",
       "3          699   39     1.0       0.00              2          0   \n",
       "4          850   43     2.0  125510.82              1          1   \n",
       "\n",
       "   IsActiveMember  EstimatedSalary  Exited  \n",
       "0               1        101348.88       1  \n",
       "1               1        112542.58       0  \n",
       "2               0        113931.57       1  \n",
       "3               0         93826.63       0  \n",
       "4               1         79084.10       0  "
      ]
     },
     "execution_count": 11,
     "metadata": {},
     "output_type": "execute_result"
    }
   ],
   "source": [
    "data = data.drop(['Geography','Gender'],axis = 1)\n",
    "data.head()"
   ]
  },
  {
   "cell_type": "code",
   "execution_count": 12,
   "metadata": {},
   "outputs": [],
   "source": [
    "data = pd.merge(data, enc_df, on = data.index)"
   ]
  },
  {
   "cell_type": "code",
   "execution_count": 13,
   "metadata": {},
   "outputs": [
    {
     "data": {
      "text/html": [
       "<div>\n",
       "<style scoped>\n",
       "    .dataframe tbody tr th:only-of-type {\n",
       "        vertical-align: middle;\n",
       "    }\n",
       "\n",
       "    .dataframe tbody tr th {\n",
       "        vertical-align: top;\n",
       "    }\n",
       "\n",
       "    .dataframe thead th {\n",
       "        text-align: right;\n",
       "    }\n",
       "</style>\n",
       "<table border=\"1\" class=\"dataframe\">\n",
       "  <thead>\n",
       "    <tr style=\"text-align: right;\">\n",
       "      <th></th>\n",
       "      <th>key_0</th>\n",
       "      <th>CreditScore</th>\n",
       "      <th>Age</th>\n",
       "      <th>Tenure</th>\n",
       "      <th>Balance</th>\n",
       "      <th>NumOfProducts</th>\n",
       "      <th>HasCrCard</th>\n",
       "      <th>IsActiveMember</th>\n",
       "      <th>EstimatedSalary</th>\n",
       "      <th>Exited</th>\n",
       "      <th>Geography_France</th>\n",
       "      <th>Geography_Germany</th>\n",
       "      <th>Geography_Spain</th>\n",
       "      <th>Gender_Female</th>\n",
       "      <th>Gender_Male</th>\n",
       "    </tr>\n",
       "  </thead>\n",
       "  <tbody>\n",
       "    <tr>\n",
       "      <th>0</th>\n",
       "      <td>0</td>\n",
       "      <td>619</td>\n",
       "      <td>42</td>\n",
       "      <td>2.0</td>\n",
       "      <td>0.00</td>\n",
       "      <td>1</td>\n",
       "      <td>1</td>\n",
       "      <td>1</td>\n",
       "      <td>101348.88</td>\n",
       "      <td>1</td>\n",
       "      <td>1.0</td>\n",
       "      <td>0.0</td>\n",
       "      <td>0.0</td>\n",
       "      <td>1.0</td>\n",
       "      <td>0.0</td>\n",
       "    </tr>\n",
       "    <tr>\n",
       "      <th>1</th>\n",
       "      <td>1</td>\n",
       "      <td>608</td>\n",
       "      <td>41</td>\n",
       "      <td>1.0</td>\n",
       "      <td>83807.86</td>\n",
       "      <td>1</td>\n",
       "      <td>0</td>\n",
       "      <td>1</td>\n",
       "      <td>112542.58</td>\n",
       "      <td>0</td>\n",
       "      <td>0.0</td>\n",
       "      <td>0.0</td>\n",
       "      <td>1.0</td>\n",
       "      <td>1.0</td>\n",
       "      <td>0.0</td>\n",
       "    </tr>\n",
       "    <tr>\n",
       "      <th>2</th>\n",
       "      <td>2</td>\n",
       "      <td>502</td>\n",
       "      <td>42</td>\n",
       "      <td>8.0</td>\n",
       "      <td>159660.80</td>\n",
       "      <td>3</td>\n",
       "      <td>1</td>\n",
       "      <td>0</td>\n",
       "      <td>113931.57</td>\n",
       "      <td>1</td>\n",
       "      <td>1.0</td>\n",
       "      <td>0.0</td>\n",
       "      <td>0.0</td>\n",
       "      <td>1.0</td>\n",
       "      <td>0.0</td>\n",
       "    </tr>\n",
       "    <tr>\n",
       "      <th>3</th>\n",
       "      <td>3</td>\n",
       "      <td>699</td>\n",
       "      <td>39</td>\n",
       "      <td>1.0</td>\n",
       "      <td>0.00</td>\n",
       "      <td>2</td>\n",
       "      <td>0</td>\n",
       "      <td>0</td>\n",
       "      <td>93826.63</td>\n",
       "      <td>0</td>\n",
       "      <td>1.0</td>\n",
       "      <td>0.0</td>\n",
       "      <td>0.0</td>\n",
       "      <td>1.0</td>\n",
       "      <td>0.0</td>\n",
       "    </tr>\n",
       "    <tr>\n",
       "      <th>4</th>\n",
       "      <td>4</td>\n",
       "      <td>850</td>\n",
       "      <td>43</td>\n",
       "      <td>2.0</td>\n",
       "      <td>125510.82</td>\n",
       "      <td>1</td>\n",
       "      <td>1</td>\n",
       "      <td>1</td>\n",
       "      <td>79084.10</td>\n",
       "      <td>0</td>\n",
       "      <td>0.0</td>\n",
       "      <td>0.0</td>\n",
       "      <td>1.0</td>\n",
       "      <td>1.0</td>\n",
       "      <td>0.0</td>\n",
       "    </tr>\n",
       "  </tbody>\n",
       "</table>\n",
       "</div>"
      ],
      "text/plain": [
       "   key_0  CreditScore  Age  Tenure    Balance  NumOfProducts  HasCrCard  \\\n",
       "0      0          619   42     2.0       0.00              1          1   \n",
       "1      1          608   41     1.0   83807.86              1          0   \n",
       "2      2          502   42     8.0  159660.80              3          1   \n",
       "3      3          699   39     1.0       0.00              2          0   \n",
       "4      4          850   43     2.0  125510.82              1          1   \n",
       "\n",
       "   IsActiveMember  EstimatedSalary  Exited  Geography_France  \\\n",
       "0               1        101348.88       1               1.0   \n",
       "1               1        112542.58       0               0.0   \n",
       "2               0        113931.57       1               1.0   \n",
       "3               0         93826.63       0               1.0   \n",
       "4               1         79084.10       0               0.0   \n",
       "\n",
       "   Geography_Germany  Geography_Spain  Gender_Female  Gender_Male  \n",
       "0                0.0              0.0            1.0          0.0  \n",
       "1                0.0              1.0            1.0          0.0  \n",
       "2                0.0              0.0            1.0          0.0  \n",
       "3                0.0              0.0            1.0          0.0  \n",
       "4                0.0              1.0            1.0          0.0  "
      ]
     },
     "execution_count": 13,
     "metadata": {},
     "output_type": "execute_result"
    }
   ],
   "source": [
    "data.head()"
   ]
  },
  {
   "cell_type": "markdown",
   "metadata": {},
   "source": [
    "- Придется применить масштабирование для достижения равенства переменных"
   ]
  },
  {
   "cell_type": "code",
   "execution_count": 14,
   "metadata": {},
   "outputs": [],
   "source": [
    "numeric = ['CreditScore', 'Age','Tenure','Balance','NumOfProducts','EstimatedSalary']"
   ]
  },
  {
   "cell_type": "code",
   "execution_count": 15,
   "metadata": {},
   "outputs": [],
   "source": [
    "target = data['Exited']\n",
    "features = data.drop('Exited',axis = 1)\n",
    "features_train,features_valid , target_train ,target_valid = train_test_split(features , target, test_size = 0.4, random_state = 12345)\n",
    "features_test,features_valid , target_test ,target_valid = train_test_split(features_valid , target_valid, test_size = 0.5, random_state = 12345)\n"
   ]
  },
  {
   "cell_type": "code",
   "execution_count": 16,
   "metadata": {},
   "outputs": [],
   "source": [
    "pd.options.mode.chained_assignment = None\n",
    "scaler = StandardScaler()\n",
    "scaler.fit(features_train[numeric])\n",
    "features_train[numeric] = scaler.transform(features_train[numeric])\n",
    "features_valid[numeric] = scaler.transform(features_valid[numeric])\n",
    "features_test[numeric] = scaler.transform(features_test[numeric])"
   ]
  },
  {
   "cell_type": "code",
   "execution_count": 17,
   "metadata": {
    "scrolled": true
   },
   "outputs": [
    {
     "data": {
      "text/html": [
       "<div>\n",
       "<style scoped>\n",
       "    .dataframe tbody tr th:only-of-type {\n",
       "        vertical-align: middle;\n",
       "    }\n",
       "\n",
       "    .dataframe tbody tr th {\n",
       "        vertical-align: top;\n",
       "    }\n",
       "\n",
       "    .dataframe thead th {\n",
       "        text-align: right;\n",
       "    }\n",
       "</style>\n",
       "<table border=\"1\" class=\"dataframe\">\n",
       "  <thead>\n",
       "    <tr style=\"text-align: right;\">\n",
       "      <th></th>\n",
       "      <th>key_0</th>\n",
       "      <th>CreditScore</th>\n",
       "      <th>Age</th>\n",
       "      <th>Tenure</th>\n",
       "      <th>Balance</th>\n",
       "      <th>NumOfProducts</th>\n",
       "      <th>HasCrCard</th>\n",
       "      <th>IsActiveMember</th>\n",
       "      <th>EstimatedSalary</th>\n",
       "      <th>Geography_France</th>\n",
       "      <th>Geography_Germany</th>\n",
       "      <th>Geography_Spain</th>\n",
       "      <th>Gender_Female</th>\n",
       "      <th>Gender_Male</th>\n",
       "    </tr>\n",
       "  </thead>\n",
       "  <tbody>\n",
       "    <tr>\n",
       "      <th>7479</th>\n",
       "      <td>7479</td>\n",
       "      <td>-0.886751</td>\n",
       "      <td>-0.373192</td>\n",
       "      <td>1.082277</td>\n",
       "      <td>1.232271</td>\n",
       "      <td>-0.891560</td>\n",
       "      <td>1</td>\n",
       "      <td>0</td>\n",
       "      <td>-0.187705</td>\n",
       "      <td>0.0</td>\n",
       "      <td>0.0</td>\n",
       "      <td>1.0</td>\n",
       "      <td>0.0</td>\n",
       "      <td>1.0</td>\n",
       "    </tr>\n",
       "    <tr>\n",
       "      <th>3411</th>\n",
       "      <td>3411</td>\n",
       "      <td>0.608663</td>\n",
       "      <td>-0.183385</td>\n",
       "      <td>1.082277</td>\n",
       "      <td>0.600563</td>\n",
       "      <td>-0.891560</td>\n",
       "      <td>0</td>\n",
       "      <td>0</td>\n",
       "      <td>-0.333945</td>\n",
       "      <td>1.0</td>\n",
       "      <td>0.0</td>\n",
       "      <td>0.0</td>\n",
       "      <td>1.0</td>\n",
       "      <td>0.0</td>\n",
       "    </tr>\n",
       "    <tr>\n",
       "      <th>6027</th>\n",
       "      <td>6027</td>\n",
       "      <td>2.052152</td>\n",
       "      <td>0.480939</td>\n",
       "      <td>-0.737696</td>\n",
       "      <td>1.027098</td>\n",
       "      <td>0.830152</td>\n",
       "      <td>0</td>\n",
       "      <td>1</td>\n",
       "      <td>1.503095</td>\n",
       "      <td>0.0</td>\n",
       "      <td>1.0</td>\n",
       "      <td>0.0</td>\n",
       "      <td>0.0</td>\n",
       "      <td>1.0</td>\n",
       "    </tr>\n",
       "    <tr>\n",
       "      <th>1247</th>\n",
       "      <td>1247</td>\n",
       "      <td>-1.457915</td>\n",
       "      <td>-1.417129</td>\n",
       "      <td>0.354288</td>\n",
       "      <td>-1.233163</td>\n",
       "      <td>0.830152</td>\n",
       "      <td>1</td>\n",
       "      <td>0</td>\n",
       "      <td>-1.071061</td>\n",
       "      <td>1.0</td>\n",
       "      <td>0.0</td>\n",
       "      <td>0.0</td>\n",
       "      <td>0.0</td>\n",
       "      <td>1.0</td>\n",
       "    </tr>\n",
       "    <tr>\n",
       "      <th>3716</th>\n",
       "      <td>3716</td>\n",
       "      <td>0.130961</td>\n",
       "      <td>-1.132419</td>\n",
       "      <td>-1.101690</td>\n",
       "      <td>1.140475</td>\n",
       "      <td>-0.891560</td>\n",
       "      <td>0</td>\n",
       "      <td>0</td>\n",
       "      <td>1.524268</td>\n",
       "      <td>0.0</td>\n",
       "      <td>1.0</td>\n",
       "      <td>0.0</td>\n",
       "      <td>1.0</td>\n",
       "      <td>0.0</td>\n",
       "    </tr>\n",
       "  </tbody>\n",
       "</table>\n",
       "</div>"
      ],
      "text/plain": [
       "      key_0  CreditScore       Age    Tenure   Balance  NumOfProducts  \\\n",
       "7479   7479    -0.886751 -0.373192  1.082277  1.232271      -0.891560   \n",
       "3411   3411     0.608663 -0.183385  1.082277  0.600563      -0.891560   \n",
       "6027   6027     2.052152  0.480939 -0.737696  1.027098       0.830152   \n",
       "1247   1247    -1.457915 -1.417129  0.354288 -1.233163       0.830152   \n",
       "3716   3716     0.130961 -1.132419 -1.101690  1.140475      -0.891560   \n",
       "\n",
       "      HasCrCard  IsActiveMember  EstimatedSalary  Geography_France  \\\n",
       "7479          1               0        -0.187705               0.0   \n",
       "3411          0               0        -0.333945               1.0   \n",
       "6027          0               1         1.503095               0.0   \n",
       "1247          1               0        -1.071061               1.0   \n",
       "3716          0               0         1.524268               0.0   \n",
       "\n",
       "      Geography_Germany  Geography_Spain  Gender_Female  Gender_Male  \n",
       "7479                0.0              1.0            0.0          1.0  \n",
       "3411                0.0              0.0            1.0          0.0  \n",
       "6027                1.0              0.0            0.0          1.0  \n",
       "1247                0.0              0.0            0.0          1.0  \n",
       "3716                1.0              0.0            1.0          0.0  "
      ]
     },
     "execution_count": 17,
     "metadata": {},
     "output_type": "execute_result"
    }
   ],
   "source": [
    "features_train.head()"
   ]
  },
  {
   "cell_type": "markdown",
   "metadata": {},
   "source": [
    "- теперь данные подготовлены для решение задачи "
   ]
  },
  {
   "cell_type": "markdown",
   "metadata": {},
   "source": [
    "## Исследование задачи"
   ]
  },
  {
   "cell_type": "markdown",
   "metadata": {},
   "source": [
    "- теперь нужно проверить баланс классов\n",
    "    - Для того, чтобы проверить дисбаланс, нужно посчитать четыре метрики\n",
    "        - TP, FN, FP,TN"
   ]
  },
  {
   "cell_type": "code",
   "execution_count": 18,
   "metadata": {},
   "outputs": [],
   "source": [
    "def roc_curve_plot(model, X_test, y_test):\n",
    "    pred = model.predict_proba(X_test)[:,1]\n",
    "    fpr, tpr, thresholds = roc_curve(y_test, pred)\n",
    "    roc_auc = auc(fpr, tpr)\n",
    "    plt.title('ROC-curve')\n",
    "    plt.plot(fpr, tpr, 'g', label = 'AUC = %0.4f' % roc_auc)\n",
    "    plt.legend(loc = 'lower right')\n",
    "    plt.plot([0, 1], [0, 1],'r--')\n",
    "    plt.grid()\n",
    "    plt.xlim([0, 1]), plt.ylim([0, 1])\n",
    "    plt.ylabel('True Positive Rate')\n",
    "    plt.xlabel('False Positive Rate')\n",
    "    plt.show()"
   ]
  },
  {
   "cell_type": "code",
   "execution_count": 19,
   "metadata": {},
   "outputs": [
    {
     "data": {
      "text/plain": [
       "(1    2037\n",
       " Name: Exited, dtype: int64,\n",
       " 0    7963\n",
       " Name: Exited, dtype: int64)"
      ]
     },
     "execution_count": 19,
     "metadata": {},
     "output_type": "execute_result"
    }
   ],
   "source": [
    "target[target ==1].value_counts(),target[target ==0].value_counts()"
   ]
  },
  {
   "cell_type": "markdown",
   "metadata": {},
   "source": [
    "- можно заметить дисбаланс в target variable, из-за дисбаланса все метрики ..."
   ]
  },
  {
   "cell_type": "markdown",
   "metadata": {},
   "source": [
    "# Logistic Regression"
   ]
  },
  {
   "cell_type": "code",
   "execution_count": 17,
   "metadata": {},
   "outputs": [],
   "source": [
    "logic = LogisticRegression(random_state = 12345, solver = 'liblinear')\n",
    "logic.fit(features_train,target_train)\n",
    "predictions = logic.predict(features_valid)"
   ]
  },
  {
   "cell_type": "markdown",
   "metadata": {},
   "source": [
    "- Теперь посмотрим, насколько результаты верны"
   ]
  },
  {
   "cell_type": "code",
   "execution_count": 18,
   "metadata": {},
   "outputs": [
    {
     "data": {
      "text/plain": [
       "(0.792, 0.792)"
      ]
     },
     "execution_count": 18,
     "metadata": {},
     "output_type": "execute_result"
    }
   ],
   "source": [
    "accuracy = accuracy_score(target_valid, predictions)\n",
    "recall  = accuracy_score(target_valid,predictions)\n",
    "accuracy,recall #точность очень большая и полнота высоки, но что скажет метрика f1"
   ]
  },
  {
   "cell_type": "code",
   "execution_count": 19,
   "metadata": {},
   "outputs": [
    {
     "data": {
      "text/plain": [
       "0.26760563380281693"
      ]
     },
     "execution_count": 19,
     "metadata": {},
     "output_type": "execute_result"
    }
   ],
   "source": [
    "f1 = f1_score(target_valid,predictions)\n",
    "f1 # По результатам можно понять то, что метрика точности нам не подходит"
   ]
  },
  {
   "cell_type": "markdown",
   "metadata": {},
   "source": [
    " - f1 score что-то среднее между полнотой и точностью, поэтому можно судить о том, что полнота стремится к нулю:\n",
    "     - Можно понять,что модель плохо понимает, как находить положительные объекты"
   ]
  },
  {
   "cell_type": "markdown",
   "metadata": {},
   "source": [
    "# Пороги"
   ]
  },
  {
   "cell_type": "code",
   "execution_count": 23,
   "metadata": {},
   "outputs": [],
   "source": [
    "def metrics_prob (probabilities_one_valid,target_valid):\n",
    "    for threshold in np.arange(0.1, 0.8, 0.05):\n",
    "        predicted_valid = probabilities_one_valid > threshold\n",
    "        precision = precision_score(target_valid,predicted_valid)\n",
    "        recall = recall_score(target_valid,predicted_valid)\n",
    "        f1 = f1_score(target_valid,predicted_valid)\n",
    "        print(\"Порог = {:.2f} | Точность = {:.3f}, Полнота = {:.3f}, F1 = {:.3f} \".format(\n",
    "        threshold, precision, recall,f1))"
   ]
  },
  {
   "cell_type": "code",
   "execution_count": 24,
   "metadata": {},
   "outputs": [
    {
     "name": "stdout",
     "output_type": "stream",
     "text": [
      "Порог = 0.10 | Точность = 0.279, Полнота = 0.894, F1 = 0.425 \n",
      "Порог = 0.15 | Точность = 0.331, Полнота = 0.801, F1 = 0.468 \n",
      "Порог = 0.20 | Точность = 0.370, Полнота = 0.674, F1 = 0.478 \n",
      "Порог = 0.25 | Точность = 0.401, Полнота = 0.546, F1 = 0.462 \n",
      "Порог = 0.30 | Точность = 0.431, Полнота = 0.461, F1 = 0.446 \n",
      "Порог = 0.35 | Точность = 0.459, Полнота = 0.388, F1 = 0.421 \n",
      "Порог = 0.40 | Точность = 0.491, Полнота = 0.314, F1 = 0.383 \n",
      "Порог = 0.45 | Точность = 0.510, Полнота = 0.234, F1 = 0.321 \n",
      "Порог = 0.50 | Точность = 0.524, Полнота = 0.180, F1 = 0.268 \n",
      "Порог = 0.55 | Точность = 0.571, Полнота = 0.142, F1 = 0.227 \n",
      "Порог = 0.60 | Точность = 0.600, Полнота = 0.092, F1 = 0.160 \n",
      "Порог = 0.65 | Точность = 0.595, Полнота = 0.059, F1 = 0.108 \n",
      "Порог = 0.70 | Точность = 0.609, Полнота = 0.033, F1 = 0.063 \n",
      "Порог = 0.75 | Точность = 0.643, Полнота = 0.021, F1 = 0.041 \n"
     ]
    }
   ],
   "source": [
    "probabilities_valid = logic.predict_proba(features_valid)\n",
    "probabilities_one_valid = probabilities_valid[:, 1]\n",
    "metrics_prob(probabilities_one_valid,target_valid)"
   ]
  },
  {
   "cell_type": "markdown",
   "metadata": {},
   "source": [
    "- С помощью изменения порога и неаугментирования логической регрессии, я смог достигнуть 0.48 в метрике ф1"
   ]
  },
  {
   "cell_type": "markdown",
   "metadata": {},
   "source": [
    "# Random Forest"
   ]
  },
  {
   "cell_type": "code",
   "execution_count": 25,
   "metadata": {},
   "outputs": [],
   "source": [
    "def random_forest (n_estimators, max_depth,features_train, target_train):\n",
    "    model = RandomForestClassifier(n_estimators = n_estimators,max_depth = max_depth,random_state = 12345)\n",
    "    model.fit(features_train, target_train)\n",
    "    predictions = model.predict(features_valid)\n",
    "    return [f1_score(target_valid,predictions),model]"
   ]
  },
  {
   "cell_type": "markdown",
   "metadata": {},
   "source": [
    "- Нахождение оптимального значения для метрики F1"
   ]
  },
  {
   "cell_type": "code",
   "execution_count": 26,
   "metadata": {},
   "outputs": [],
   "source": [
    "most_score = 0\n",
    "for n_estimators in range(10,80,10):\n",
    "    for max_depth in range(1,12,1):\n",
    "        if random_forest(n_estimators,max_depth,features_train, target_train)[0] > most_score:\n",
    "            most_score = random_forest(n_estimators,max_depth,features_train, target_train)[0]\n",
    "            best_params = [n_estimators,max_depth]"
   ]
  },
  {
   "cell_type": "code",
   "execution_count": 27,
   "metadata": {},
   "outputs": [
    {
     "data": {
      "text/plain": [
       "[30, 10]"
      ]
     },
     "execution_count": 27,
     "metadata": {},
     "output_type": "execute_result"
    }
   ],
   "source": [
    "best_params"
   ]
  },
  {
   "cell_type": "code",
   "execution_count": 28,
   "metadata": {},
   "outputs": [],
   "source": [
    "model = random_forest(best_params[0],best_params[1],features_train, target_train)[1]"
   ]
  },
  {
   "cell_type": "code",
   "execution_count": 29,
   "metadata": {},
   "outputs": [
    {
     "data": {
      "text/plain": [
       "0.5185185185185186"
      ]
     },
     "execution_count": 29,
     "metadata": {},
     "output_type": "execute_result"
    }
   ],
   "source": [
    "random_forest(best_params[0],best_params[1],features_train, target_train)[0] # F1 высокое значение метрики показывает, что прогресс есть"
   ]
  },
  {
   "cell_type": "markdown",
   "metadata": {},
   "source": [
    "Даже без балансировки я смог достичь F1 равной 0.51"
   ]
  },
  {
   "cell_type": "code",
   "execution_count": 30,
   "metadata": {},
   "outputs": [
    {
     "name": "stdout",
     "output_type": "stream",
     "text": [
      "Порог = 0.10 | Точность = 0.332, Полнота = 0.920, F1 = 0.488 \n",
      "Порог = 0.15 | Точность = 0.400, Полнота = 0.839, F1 = 0.542 \n",
      "Порог = 0.20 | Точность = 0.471, Полнота = 0.780, F1 = 0.588 \n",
      "Порог = 0.25 | Точность = 0.537, Полнота = 0.702, F1 = 0.609 \n",
      "Порог = 0.30 | Точность = 0.600, Полнота = 0.622, F1 = 0.611 \n",
      "Порог = 0.35 | Точность = 0.642, Полнота = 0.546, F1 = 0.590 \n",
      "Порог = 0.40 | Точность = 0.676, Полнота = 0.489, F1 = 0.568 \n",
      "Порог = 0.45 | Точность = 0.712, Полнота = 0.437, F1 = 0.542 \n",
      "Порог = 0.50 | Точность = 0.747, Полнота = 0.397, F1 = 0.519 \n",
      "Порог = 0.55 | Точность = 0.782, Полнота = 0.331, F1 = 0.465 \n",
      "Порог = 0.60 | Точность = 0.807, Полнота = 0.267, F1 = 0.401 \n",
      "Порог = 0.65 | Точность = 0.821, Полнота = 0.217, F1 = 0.344 \n",
      "Порог = 0.70 | Точность = 0.857, Полнота = 0.170, F1 = 0.284 \n",
      "Порог = 0.75 | Точность = 0.918, Полнота = 0.132, F1 = 0.231 \n"
     ]
    }
   ],
   "source": [
    "probabilities_valid = random_forest(best_params[0],best_params[1],features_train, target_train)[1].predict_proba(features_valid)\n",
    "probabilities_one_valid = probabilities_valid[:, 1]\n",
    "metrics_prob(probabilities_one_valid, target_valid)"
   ]
  },
  {
   "cell_type": "markdown",
   "metadata": {},
   "source": [
    "С помощью изменений порогов я смог достичь f1 метрики в 0.61"
   ]
  },
  {
   "cell_type": "markdown",
   "metadata": {},
   "source": [
    "# Decision Tree"
   ]
  },
  {
   "cell_type": "code",
   "execution_count": 31,
   "metadata": {},
   "outputs": [],
   "source": [
    "def dec_tree (max_depth , criterion,features_train,target_train ):    \n",
    "    dtree = DecisionTreeClassifier(criterion = criterion, max_depth = depth ,random_state = 12345)\n",
    "    model = dtree.fit(features_train,target_train)\n",
    "    predictions = model.predict(features_valid)\n",
    "    return f1_score(target_valid, predictions)\n"
   ]
  },
  {
   "cell_type": "code",
   "execution_count": 32,
   "metadata": {},
   "outputs": [
    {
     "data": {
      "text/plain": [
       "['gini', 6, 0.5269645608628658]"
      ]
     },
     "execution_count": 32,
     "metadata": {},
     "output_type": "execute_result"
    }
   ],
   "source": [
    "criterions =['gini','entropy']\n",
    "best_f1 = 0\n",
    "for criterion in criterions:\n",
    "    for depth in range(1,8):\n",
    "        f1 = dec_tree(depth,criterion,features_train,target_train)\n",
    "        if f1 > best_f1:\n",
    "            best_f1 = f1\n",
    "            best_params = [criterion,depth,f1]\n",
    "best_params"
   ]
  },
  {
   "cell_type": "code",
   "execution_count": 33,
   "metadata": {},
   "outputs": [],
   "source": [
    "model = DecisionTreeClassifier(criterion = 'gini',max_depth = 6,random_state = 12345).fit(features_train,target_train)"
   ]
  },
  {
   "cell_type": "markdown",
   "metadata": {},
   "source": [
    "с помощью изменения порога прим оптимальных параметрах:"
   ]
  },
  {
   "cell_type": "code",
   "execution_count": 34,
   "metadata": {},
   "outputs": [],
   "source": [
    "probabilities_valid = model.predict_proba(features_valid)\n",
    "probabilities_one_valid = probabilities_valid[:, 1]"
   ]
  },
  {
   "cell_type": "code",
   "execution_count": 35,
   "metadata": {},
   "outputs": [
    {
     "name": "stdout",
     "output_type": "stream",
     "text": [
      "Порог = 0.10 | Точность = 0.423, Полнота = 0.827, F1 = 0.560 \n",
      "Порог = 0.15 | Точность = 0.423, Полнота = 0.827, F1 = 0.560 \n",
      "Порог = 0.20 | Точность = 0.444, Полнота = 0.792, F1 = 0.569 \n",
      "Порог = 0.25 | Точность = 0.540, Полнота = 0.676, F1 = 0.600 \n",
      "Порог = 0.30 | Точность = 0.613, Полнота = 0.584, F1 = 0.598 \n",
      "Порог = 0.35 | Точность = 0.669, Полнота = 0.511, F1 = 0.579 \n",
      "Порог = 0.40 | Точность = 0.717, Полнота = 0.461, F1 = 0.561 \n",
      "Порог = 0.45 | Точность = 0.751, Полнота = 0.414, F1 = 0.534 \n",
      "Порог = 0.50 | Точность = 0.757, Полнота = 0.404, F1 = 0.527 \n",
      "Порог = 0.55 | Точность = 0.794, Полнота = 0.338, F1 = 0.474 \n",
      "Порог = 0.60 | Точность = 0.794, Полнота = 0.338, F1 = 0.474 \n",
      "Порог = 0.65 | Точность = 0.794, Полнота = 0.338, F1 = 0.474 \n",
      "Порог = 0.70 | Точность = 0.814, Полнота = 0.300, F1 = 0.439 \n",
      "Порог = 0.75 | Точность = 0.800, Полнота = 0.208, F1 = 0.330 \n"
     ]
    }
   ],
   "source": [
    "metrics_prob(probabilities_one_valid,target_valid) # в то же время изменение порогов привело к ухудшения результатов"
   ]
  },
  {
   "cell_type": "markdown",
   "metadata": {},
   "source": [
    "Даже без балансировки можно достигнуть F1 метрики большей 0.56, без принебрежения другими параметрами, так как recall,precision получились замечательными для такой малой выборки"
   ]
  },
  {
   "cell_type": "markdown",
   "metadata": {},
   "source": [
    "## Борьба с дисбалансом"
   ]
  },
  {
   "cell_type": "markdown",
   "metadata": {},
   "source": [
    "- Борьба с дисбалансом может быть произведена с помощью трех методов(по крайней мере в нашем курсе)\n",
    "    - Upsampling\n",
    "    - Downsampling\n",
    "    - балансировка классов с помощью :\n",
    "        - class_weight = 'balanced'"
   ]
  },
  {
   "cell_type": "markdown",
   "metadata": {},
   "source": [
    "### Upsampling "
   ]
  },
  {
   "cell_type": "code",
   "execution_count": 21,
   "metadata": {},
   "outputs": [],
   "source": [
    "def upsample(features, target, repeat):\n",
    "    features_zeros = features[target == 0]\n",
    "    features_ones = features[target == 1]\n",
    "    target_zeros = target[target == 0]\n",
    "    target_ones = target[target == 1]\n",
    "\n",
    "    features_upsampled = pd.concat([features_zeros] + [features_ones] * repeat)\n",
    "    target_upsampled = pd.concat([target_zeros] + [target_ones] * repeat)\n",
    "    \n",
    "    features_upsampled, target_upsampled = shuffle(\n",
    "        features_upsampled, target_upsampled, random_state=12345)\n",
    "    \n",
    "    return features_upsampled, target_upsampled"
   ]
  },
  {
   "cell_type": "code",
   "execution_count": 37,
   "metadata": {},
   "outputs": [
    {
     "data": {
      "text/plain": [
       "0    7963\n",
       "1    2037\n",
       "Name: Exited, dtype: int64"
      ]
     },
     "execution_count": 37,
     "metadata": {},
     "output_type": "execute_result"
    }
   ],
   "source": [
    "target.value_counts() # попробуем привести их к отношению 1:1"
   ]
  },
  {
   "cell_type": "code",
   "execution_count": 22,
   "metadata": {},
   "outputs": [],
   "source": [
    "features_upsampled,target_upsampled = upsample(features_train,target_train, 4)"
   ]
  },
  {
   "cell_type": "code",
   "execution_count": 23,
   "metadata": {},
   "outputs": [
    {
     "data": {
      "text/plain": [
       "0    4804\n",
       "1    4784\n",
       "Name: Exited, dtype: int64"
      ]
     },
     "execution_count": 23,
     "metadata": {},
     "output_type": "execute_result"
    }
   ],
   "source": [
    "target_upsampled.value_counts() # теперь отношение примерно единица и мы можем оценить модель по критериям"
   ]
  },
  {
   "cell_type": "markdown",
   "metadata": {},
   "source": [
    "#### DecisionTree"
   ]
  },
  {
   "cell_type": "code",
   "execution_count": 40,
   "metadata": {},
   "outputs": [
    {
     "data": {
      "text/plain": [
       "0.5515267175572519"
      ]
     },
     "execution_count": 40,
     "metadata": {},
     "output_type": "execute_result"
    }
   ],
   "source": [
    "dec_tree(6,'gini',features_upsampled,target_upsampled) # c помощью прошлых параметров критерий F1 получился ниже, \n",
    "#попытаемся подобрать получше"
   ]
  },
  {
   "cell_type": "code",
   "execution_count": 41,
   "metadata": {},
   "outputs": [
    {
     "data": {
      "text/plain": [
       "['gini', 5, 0.5809128630705395]"
      ]
     },
     "execution_count": 41,
     "metadata": {},
     "output_type": "execute_result"
    }
   ],
   "source": [
    "criterions =['gini','entropy']\n",
    "best_f1 = 0\n",
    "for criterion in criterions:\n",
    "    for depth in range(1,8):\n",
    "        f1 = dec_tree(depth,criterion,features_upsampled,target_upsampled)\n",
    "        if f1 > best_f1:\n",
    "            best_f1 = f1\n",
    "            best_params = [criterion,depth,f1]\n",
    "best_params"
   ]
  },
  {
   "cell_type": "code",
   "execution_count": 42,
   "metadata": {},
   "outputs": [],
   "source": [
    "model = DecisionTreeClassifier(criterion = 'gini',max_depth = 5,random_state = 12345).fit(features_train,target_train)"
   ]
  },
  {
   "cell_type": "code",
   "execution_count": 43,
   "metadata": {},
   "outputs": [
    {
     "name": "stdout",
     "output_type": "stream",
     "text": [
      "Порог = 0.10 | Точность = 0.243, Полнота = 0.986, F1 = 0.390 \n",
      "Порог = 0.15 | Точность = 0.263, Полнота = 0.979, F1 = 0.414 \n",
      "Порог = 0.20 | Точность = 0.313, Полнота = 0.946, F1 = 0.471 \n",
      "Порог = 0.25 | Точность = 0.349, Полнота = 0.879, F1 = 0.500 \n",
      "Порог = 0.30 | Точность = 0.349, Полнота = 0.879, F1 = 0.500 \n",
      "Порог = 0.35 | Точность = 0.349, Полнота = 0.879, F1 = 0.500 \n",
      "Порог = 0.40 | Точность = 0.375, Полнота = 0.846, F1 = 0.520 \n",
      "Порог = 0.45 | Точность = 0.412, Полнота = 0.771, F1 = 0.537 \n",
      "Порог = 0.50 | Точность = 0.518, Полнота = 0.662, F1 = 0.581 \n",
      "Порог = 0.55 | Точность = 0.518, Полнота = 0.662, F1 = 0.581 \n",
      "Порог = 0.60 | Точность = 0.569, Полнота = 0.636, F1 = 0.600 \n",
      "Порог = 0.65 | Точность = 0.569, Полнота = 0.636, F1 = 0.600 \n",
      "Порог = 0.70 | Точность = 0.686, Полнота = 0.414, F1 = 0.516 \n",
      "Порог = 0.75 | Точность = 0.716, Полнота = 0.376, F1 = 0.493 \n"
     ]
    }
   ],
   "source": [
    "probabilities_valid = DecisionTreeClassifier(criterion = 'gini',max_depth = 5,random_state = 12345).fit(features_upsampled,target_upsampled).predict_proba(features_valid)\n",
    "probabilities_one_valid = probabilities_valid[:, 1]\n",
    "metrics_prob(probabilities_one_valid,target_valid)"
   ]
  },
  {
   "cell_type": "markdown",
   "metadata": {},
   "source": [
    "F1 равный 0.6 был достигнут при пороге 0.65"
   ]
  },
  {
   "cell_type": "markdown",
   "metadata": {},
   "source": [
    "#### Random Forest\n"
   ]
  },
  {
   "cell_type": "code",
   "execution_count": 44,
   "metadata": {},
   "outputs": [],
   "source": [
    "most_score = 0\n",
    "for n_estimators in range(10,80,10):\n",
    "    for max_depth in range(1,12,1):\n",
    "        if random_forest(n_estimators,max_depth,features_upsampled, target_upsampled)[0] > most_score:\n",
    "            most_score = random_forest(n_estimators,max_depth,features_upsampled, target_upsampled)[0]\n",
    "            best_params = [n_estimators,max_depth]\n",
    "            \n"
   ]
  },
  {
   "cell_type": "code",
   "execution_count": 45,
   "metadata": {},
   "outputs": [
    {
     "data": {
      "text/plain": [
       "[70, 11]"
      ]
     },
     "execution_count": 45,
     "metadata": {},
     "output_type": "execute_result"
    }
   ],
   "source": [
    "best_params"
   ]
  },
  {
   "cell_type": "code",
   "execution_count": 46,
   "metadata": {},
   "outputs": [],
   "source": [
    "model = random_forest(70,11,features_upsampled, target_upsampled)[1]"
   ]
  },
  {
   "cell_type": "code",
   "execution_count": 47,
   "metadata": {},
   "outputs": [
    {
     "data": {
      "text/plain": [
       "0.6040723981900453"
      ]
     },
     "execution_count": 47,
     "metadata": {},
     "output_type": "execute_result"
    }
   ],
   "source": [
    "random_forest(70,11,features_upsampled, target_upsampled)[0] # здесь неудалось достичь f1 больше 0.57 без применения порогов \n",
    "#занятно, что получилось также как и в неаугентированной модели без балансировки"
   ]
  },
  {
   "cell_type": "code",
   "execution_count": 48,
   "metadata": {},
   "outputs": [
    {
     "name": "stdout",
     "output_type": "stream",
     "text": [
      "Порог = 0.10 | Точность = 0.252, Полнота = 0.979, F1 = 0.401 \n",
      "Порог = 0.15 | Точность = 0.287, Полнота = 0.965, F1 = 0.443 \n",
      "Порог = 0.20 | Точность = 0.324, Полнота = 0.941, F1 = 0.482 \n",
      "Порог = 0.25 | Точность = 0.366, Полнота = 0.901, F1 = 0.520 \n",
      "Порог = 0.30 | Точность = 0.405, Полнота = 0.861, F1 = 0.551 \n",
      "Порог = 0.35 | Точность = 0.443, Полнота = 0.813, F1 = 0.574 \n",
      "Порог = 0.40 | Точность = 0.504, Полнота = 0.749, F1 = 0.603 \n",
      "Порог = 0.45 | Точность = 0.536, Полнота = 0.690, F1 = 0.603 \n",
      "Порог = 0.50 | Точность = 0.579, Полнота = 0.631, F1 = 0.604 \n",
      "Порог = 0.55 | Точность = 0.634, Полнота = 0.565, F1 = 0.598 \n",
      "Порог = 0.60 | Точность = 0.669, Полнота = 0.473, F1 = 0.554 \n",
      "Порог = 0.65 | Точность = 0.704, Полнота = 0.421, F1 = 0.527 \n",
      "Порог = 0.70 | Точность = 0.741, Полнота = 0.338, F1 = 0.464 \n",
      "Порог = 0.75 | Точность = 0.787, Полнота = 0.288, F1 = 0.422 \n"
     ]
    }
   ],
   "source": [
    "probabilities_valid = random_forest(70,11,features_upsampled, target_upsampled)[1].fit(features_upsampled,target_upsampled).predict_proba(features_valid)\n",
    "probabilities_one_valid = probabilities_valid[:, 1]\n",
    "metrics_prob(probabilities_one_valid,target_valid)"
   ]
  },
  {
   "cell_type": "markdown",
   "metadata": {},
   "source": [
    " При помощи изменения порога, F1 можно довести до 0.6"
   ]
  },
  {
   "cell_type": "markdown",
   "metadata": {},
   "source": [
    "### Downsampling"
   ]
  },
  {
   "cell_type": "code",
   "execution_count": 49,
   "metadata": {},
   "outputs": [],
   "source": [
    "def downsample(features, target, fraction):\n",
    "    features_zeros = features[target == 0]\n",
    "    features_ones = features[target == 1]\n",
    "    target_zeros = target[target == 0]\n",
    "    target_ones = target[target == 1]\n",
    "\n",
    "    features_downsampled = pd.concat(\n",
    "        [features_zeros.sample(frac=fraction, random_state=12345)] + [features_ones])\n",
    "    target_downsampled = pd.concat(\n",
    "        [target_zeros.sample(frac=fraction, random_state=12345)] + [target_ones])\n",
    "    \n",
    "    features_downsampled, target_downsampled = shuffle(\n",
    "        features_downsampled, target_downsampled, random_state=12345)\n",
    "    \n",
    "    return features_downsampled, target_downsampled"
   ]
  },
  {
   "cell_type": "code",
   "execution_count": 50,
   "metadata": {},
   "outputs": [
    {
     "data": {
      "text/plain": [
       "0    7963\n",
       "1    2037\n",
       "Name: Exited, dtype: int64"
      ]
     },
     "execution_count": 50,
     "metadata": {},
     "output_type": "execute_result"
    }
   ],
   "source": [
    "target.value_counts() # попробуем привести их к отношению 1:1"
   ]
  },
  {
   "cell_type": "code",
   "execution_count": 51,
   "metadata": {},
   "outputs": [],
   "source": [
    "features_downsampled,target_downsampled = downsample(features_train,target_train, 0.25)"
   ]
  },
  {
   "cell_type": "code",
   "execution_count": 52,
   "metadata": {},
   "outputs": [
    {
     "data": {
      "text/plain": [
       "0    1201\n",
       "1    1196\n",
       "Name: Exited, dtype: int64"
      ]
     },
     "execution_count": 52,
     "metadata": {},
     "output_type": "execute_result"
    }
   ],
   "source": [
    "target_downsampled.value_counts() # привели к отношению 1:1 , но лишились 6 тысяч наблюдений"
   ]
  },
  {
   "cell_type": "markdown",
   "metadata": {},
   "source": [
    "#### Decision Tree"
   ]
  },
  {
   "cell_type": "code",
   "execution_count": 53,
   "metadata": {},
   "outputs": [
    {
     "data": {
      "text/plain": [
       "0.5441819772528433"
      ]
     },
     "execution_count": 53,
     "metadata": {},
     "output_type": "execute_result"
    }
   ],
   "source": [
    "dec_tree(6,'gini',features_downsampled,target_downsampled) # c помощью прошлых параметров критерий F1 получился ниже"
   ]
  },
  {
   "cell_type": "code",
   "execution_count": 54,
   "metadata": {},
   "outputs": [
    {
     "data": {
      "text/plain": [
       "['gini', 5, 0.5930902111324378]"
      ]
     },
     "execution_count": 54,
     "metadata": {},
     "output_type": "execute_result"
    }
   ],
   "source": [
    "criterions =['gini','entropy']\n",
    "best_f1 = 0\n",
    "for criterion in criterions:\n",
    "    for depth in range(1,10):\n",
    "        f1 = dec_tree(depth,criterion,features_downsampled,target_downsampled)\n",
    "        if f1 > best_f1:\n",
    "            best_f1 = f1\n",
    "            best_params = [criterion,depth,f1]\n",
    "best_params"
   ]
  },
  {
   "cell_type": "markdown",
   "metadata": {},
   "source": [
    "ROC-сurve не изменилась для downsampling, можно ли сделать вывод о том, что деревья лучше подходят к малым выборкам?"
   ]
  },
  {
   "cell_type": "code",
   "execution_count": 55,
   "metadata": {},
   "outputs": [
    {
     "name": "stdout",
     "output_type": "stream",
     "text": [
      "Порог = 0.10 | Точность = 0.264, Полнота = 0.976, F1 = 0.415 \n",
      "Порог = 0.15 | Точность = 0.264, Полнота = 0.974, F1 = 0.415 \n",
      "Порог = 0.20 | Точность = 0.265, Полнота = 0.962, F1 = 0.416 \n",
      "Порог = 0.25 | Точность = 0.307, Полнота = 0.927, F1 = 0.462 \n",
      "Порог = 0.30 | Точность = 0.388, Полнота = 0.849, F1 = 0.532 \n",
      "Порог = 0.35 | Точность = 0.391, Полнота = 0.849, F1 = 0.535 \n",
      "Порог = 0.40 | Точность = 0.391, Полнота = 0.849, F1 = 0.535 \n",
      "Порог = 0.45 | Точность = 0.444, Полнота = 0.823, F1 = 0.577 \n",
      "Порог = 0.50 | Точность = 0.499, Полнота = 0.730, F1 = 0.593 \n",
      "Порог = 0.55 | Точность = 0.499, Полнота = 0.730, F1 = 0.593 \n",
      "Порог = 0.60 | Точность = 0.520, Полнота = 0.652, F1 = 0.579 \n",
      "Порог = 0.65 | Точность = 0.567, Полнота = 0.551, F1 = 0.559 \n",
      "Порог = 0.70 | Точность = 0.706, Полнота = 0.357, F1 = 0.474 \n",
      "Порог = 0.75 | Точность = 0.706, Полнота = 0.357, F1 = 0.474 \n"
     ]
    }
   ],
   "source": [
    "probabilities_valid = DecisionTreeClassifier(criterion = 'gini',max_depth = 5,random_state = 12345).fit(features_downsampled,target_downsampled).predict_proba(features_valid)\n",
    "probabilities_one_valid = probabilities_valid[:, 1]\n",
    "metrics_prob(probabilities_one_valid,target_valid)"
   ]
  },
  {
   "cell_type": "markdown",
   "metadata": {},
   "source": [
    "<div class='alert alert-danger'>❌Давай выше и везде ниже тоже оптимальные параметры использовать\n",
    "</div>"
   ]
  },
  {
   "cell_type": "markdown",
   "metadata": {},
   "source": [
    "<div class=\"alert alert-info\"> <b>Комментарий студента:</b> \n",
    "    Исправил ошибку! опять же,все из-за проблем в первом пункте(\n",
    " </div>"
   ]
  },
  {
   "cell_type": "markdown",
   "metadata": {},
   "source": [
    "Занимателен тот факт, что при оптимальной метрике, ее оптимизация ни к чему не приводит"
   ]
  },
  {
   "cell_type": "markdown",
   "metadata": {},
   "source": [
    "#### Random Forest"
   ]
  },
  {
   "cell_type": "code",
   "execution_count": 56,
   "metadata": {},
   "outputs": [],
   "source": [
    "most_score = 0\n",
    "for n_estimators in range(10,80,10):\n",
    "    for max_depth in range(1,12,1):\n",
    "        if random_forest(n_estimators,max_depth,features_downsampled, target_downsampled)[0] > most_score:\n",
    "            most_score = random_forest(n_estimators,max_depth,features_upsampled, target_upsampled)[0]\n",
    "            best_params = [n_estimators,max_depth]\n",
    "            \n"
   ]
  },
  {
   "cell_type": "code",
   "execution_count": 57,
   "metadata": {},
   "outputs": [
    {
     "data": {
      "text/plain": [
       "[60, 7]"
      ]
     },
     "execution_count": 57,
     "metadata": {},
     "output_type": "execute_result"
    }
   ],
   "source": [
    "best_params"
   ]
  },
  {
   "cell_type": "code",
   "execution_count": 58,
   "metadata": {},
   "outputs": [],
   "source": [
    "model = random_forest(60,7,features_downsampled, target_downsampled)[1]"
   ]
  },
  {
   "cell_type": "code",
   "execution_count": 59,
   "metadata": {},
   "outputs": [
    {
     "data": {
      "text/plain": [
       "0.5850965961361545"
      ]
     },
     "execution_count": 59,
     "metadata": {},
     "output_type": "execute_result"
    }
   ],
   "source": [
    "random_forest(60,7,features_downsampled, target_downsampled)[0] # downsampling привел к тому, что модель не переучилась\n",
    "# как это происходило с upsampling так как recall всегда был высокий для прошлой и только снижение порога помогало"
   ]
  },
  {
   "cell_type": "code",
   "execution_count": 60,
   "metadata": {},
   "outputs": [
    {
     "name": "stdout",
     "output_type": "stream",
     "text": [
      "Порог = 0.10 | Точность = 0.215, Полнота = 0.998, F1 = 0.354 \n",
      "Порог = 0.15 | Точность = 0.229, Полнота = 0.991, F1 = 0.372 \n",
      "Порог = 0.20 | Точность = 0.253, Полнота = 0.981, F1 = 0.403 \n",
      "Порог = 0.25 | Точность = 0.278, Полнота = 0.965, F1 = 0.432 \n",
      "Порог = 0.30 | Точность = 0.306, Полнота = 0.934, F1 = 0.461 \n",
      "Порог = 0.35 | Точность = 0.341, Полнота = 0.903, F1 = 0.495 \n",
      "Порог = 0.40 | Точность = 0.384, Полнота = 0.849, F1 = 0.529 \n",
      "Порог = 0.45 | Точность = 0.427, Полнота = 0.813, F1 = 0.560 \n",
      "Порог = 0.50 | Точность = 0.479, Полнота = 0.752, F1 = 0.585 \n",
      "Порог = 0.55 | Точность = 0.518, Полнота = 0.657, F1 = 0.579 \n",
      "Порог = 0.60 | Точность = 0.577, Полнота = 0.577, F1 = 0.577 \n",
      "Порог = 0.65 | Точность = 0.643, Полнота = 0.515, F1 = 0.572 \n",
      "Порог = 0.70 | Точность = 0.681, Полнота = 0.409, F1 = 0.511 \n",
      "Порог = 0.75 | Точность = 0.722, Полнота = 0.300, F1 = 0.424 \n"
     ]
    }
   ],
   "source": [
    "probabilities_valid = random_forest(60,7,features_downsampled, target_downsampled)[1].fit(features_downsampled,target_downsampled).predict_proba(features_valid)\n",
    "probabilities_one_valid = probabilities_valid[:, 1]\n",
    "metrics_prob(probabilities_one_valid,target_valid)"
   ]
  },
  {
   "cell_type": "markdown",
   "metadata": {},
   "source": [
    "### Class weight"
   ]
  },
  {
   "cell_type": "code",
   "execution_count": 61,
   "metadata": {},
   "outputs": [
    {
     "name": "stdout",
     "output_type": "stream",
     "text": [
      "F1: 0.4804856895056374\n"
     ]
    }
   ],
   "source": [
    "model = LogisticRegression(random_state=12345, solver='liblinear',class_weight = 'balanced')\n",
    "model.fit(features_train, target_train)\n",
    "predicted_valid = model.predict(features_valid)\n",
    "print(\"F1:\", f1_score(target_valid, predicted_valid)) # причисляя бОльший вес '1' мы получили F1 меру выше,чем прежде, но все\n",
    "# еще меньше чем у сбалансированной выборки"
   ]
  },
  {
   "cell_type": "markdown",
   "metadata": {},
   "source": [
    "В заключении можно сказать, что в данной задаче больше подходит upsampling,потому что размер датасета недостаточно большой для рационального применения downsampling"
   ]
  },
  {
   "cell_type": "markdown",
   "metadata": {},
   "source": [
    "Почти все модели в upsampling показали результат стремящийся к 0.6, что впечатляет, потому что при это сохраняется высокий уровень точности и полноты"
   ]
  },
  {
   "cell_type": "markdown",
   "metadata": {},
   "source": [
    "## Тестирование модели"
   ]
  },
  {
   "cell_type": "markdown",
   "metadata": {},
   "source": [
    "Теперь, нужно протестировать предположения на тестовой выборке"
   ]
  },
  {
   "cell_type": "markdown",
   "metadata": {},
   "source": [
    "Random Forest [70,11]\n"
   ]
  },
  {
   "cell_type": "code",
   "execution_count": 24,
   "metadata": {},
   "outputs": [
    {
     "name": "stdout",
     "output_type": "stream",
     "text": [
      "Точность = 0.589, Полнота = 0.639, F1 = 0.613 \n"
     ]
    }
   ],
   "source": [
    "model = RandomForestClassifier(n_estimators = 70,max_depth = 11, random_state = 12345)\n",
    "model.fit(features_upsampled,target_upsampled)\n",
    "predicted_values = model.predict(features_test)\n",
    "precision = precision_score(target_test,predicted_values)\n",
    "recall = recall_score(target_test,predicted_values)\n",
    "f1 = f1_score(target_test,predicted_values)\n",
    "print(\"Точность = {:.3f}, Полнота = {:.3f}, F1 = {:.3f} \".format(precision, recall,f1))"
   ]
  },
  {
   "cell_type": "code",
   "execution_count": 63,
   "metadata": {},
   "outputs": [
    {
     "data": {
      "image/png": "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\n",
      "text/plain": [
       "<Figure size 432x288 with 1 Axes>"
      ]
     },
     "metadata": {
      "needs_background": "light"
     },
     "output_type": "display_data"
    }
   ],
   "source": [
    "roc_curve_plot(model,features_test,target_test)"
   ]
  },
  {
   "cell_type": "markdown",
   "metadata": {},
   "source": [
    "Так как, классификаторы, которые оказываются левее являются лучшими!Площадь под графиком не равна единице, что показывает среднее каечство модели"
   ]
  },
  {
   "cell_type": "markdown",
   "metadata": {},
   "source": [
    "## Чек-лист готовности проекта"
   ]
  },
  {
   "cell_type": "markdown",
   "metadata": {},
   "source": [
    "Поставьте 'x' в выполненных пунктах. Далее нажмите Shift+Enter."
   ]
  },
 ],
 "metadata": {
  "ExecuteTimeLog": [
   {
    "duration": 475,
    "start_time": "2023-06-11T16:18:12.527Z"
   },
   {
    "duration": 143,
    "start_time": "2023-06-11T16:18:25.031Z"
   },
   {
    "duration": 80,
    "start_time": "2023-06-11T16:18:33.547Z"
   },
   {
    "duration": 61,
    "start_time": "2023-06-11T16:18:40.037Z"
   },
   {
    "duration": 91,
    "start_time": "2023-06-11T16:18:53.781Z"
   },
   {
    "duration": 23,
    "start_time": "2023-06-11T16:18:56.007Z"
   },
   {
    "duration": 5101,
    "start_time": "2023-06-11T16:24:56.141Z"
   },
   {
    "duration": 33,
    "start_time": "2023-06-11T16:25:11.222Z"
   },
   {
    "duration": 3709,
    "start_time": "2023-06-11T16:25:40.849Z"
   },
   {
    "duration": 3663,
    "start_time": "2023-06-11T16:26:51.911Z"
   },
   {
    "duration": 14,
    "start_time": "2023-06-11T16:27:14.958Z"
   },
   {
    "duration": 25,
    "start_time": "2023-06-11T16:27:20.788Z"
   },
   {
    "duration": 13,
    "start_time": "2023-06-11T16:27:35.546Z"
   },
   {
    "duration": 69,
    "start_time": "2023-06-11T16:27:48.648Z"
   },
   {
    "duration": 13,
    "start_time": "2023-06-11T16:27:50.435Z"
   },
   {
    "duration": 14,
    "start_time": "2023-06-11T16:30:27.126Z"
   },
   {
    "duration": 21,
    "start_time": "2023-06-11T16:30:35.023Z"
   },
   {
    "duration": 65,
    "start_time": "2023-06-11T16:31:10.518Z"
   },
   {
    "duration": 10,
    "start_time": "2023-06-11T16:31:12.734Z"
   },
   {
    "duration": 20,
    "start_time": "2023-06-11T16:31:17.377Z"
   },
   {
    "duration": 3,
    "start_time": "2023-06-11T16:36:31.336Z"
   },
   {
    "duration": 1150,
    "start_time": "2023-06-11T16:37:24.564Z"
   },
   {
    "duration": 16,
    "start_time": "2023-06-11T16:39:00.506Z"
   },
   {
    "duration": 31,
    "start_time": "2023-06-11T16:39:30.575Z"
   },
   {
    "duration": 142,
    "start_time": "2023-06-11T16:41:25.066Z"
   },
   {
    "duration": 22,
    "start_time": "2023-06-11T16:42:22.884Z"
   },
   {
    "duration": 133,
    "start_time": "2023-06-11T16:42:52.599Z"
   },
   {
    "duration": 51,
    "start_time": "2023-06-11T16:42:59.819Z"
   },
   {
    "duration": 29,
    "start_time": "2023-06-11T16:43:27.551Z"
   },
   {
    "duration": 57,
    "start_time": "2023-06-11T16:43:34.651Z"
   },
   {
    "duration": 37,
    "start_time": "2023-06-11T16:44:15.511Z"
   },
   {
    "duration": 56,
    "start_time": "2023-06-11T16:44:25.682Z"
   },
   {
    "duration": 35,
    "start_time": "2023-06-11T16:44:29.127Z"
   },
   {
    "duration": 30,
    "start_time": "2023-06-11T16:44:38.367Z"
   },
   {
    "duration": 31,
    "start_time": "2023-06-11T16:45:13.783Z"
   },
   {
    "duration": 26,
    "start_time": "2023-06-11T20:35:09.756Z"
   },
   {
    "duration": 7,
    "start_time": "2023-06-11T20:35:20.969Z"
   },
   {
    "duration": 171,
    "start_time": "2023-06-11T20:37:06.610Z"
   },
   {
    "duration": 22,
    "start_time": "2023-06-11T20:37:47.730Z"
   },
   {
    "duration": 11,
    "start_time": "2023-06-11T20:38:23.127Z"
   },
   {
    "duration": 49,
    "start_time": "2023-06-11T20:38:40.079Z"
   },
   {
    "duration": 38,
    "start_time": "2023-06-11T20:38:49.904Z"
   },
   {
    "duration": 41,
    "start_time": "2023-06-11T20:39:33.721Z"
   },
   {
    "duration": 11,
    "start_time": "2023-06-11T20:39:57.407Z"
   },
   {
    "duration": 36,
    "start_time": "2023-06-11T20:39:59.812Z"
   },
   {
    "duration": 4,
    "start_time": "2023-06-11T20:40:01.945Z"
   },
   {
    "duration": 7,
    "start_time": "2023-06-11T20:40:02.972Z"
   },
   {
    "duration": 42,
    "start_time": "2023-06-11T20:40:04.435Z"
   },
   {
    "duration": 16,
    "start_time": "2023-06-11T20:40:05.925Z"
   },
   {
    "duration": 7,
    "start_time": "2023-06-11T20:40:13.869Z"
   },
   {
    "duration": 54,
    "start_time": "2023-06-11T20:40:15.276Z"
   },
   {
    "duration": 43,
    "start_time": "2023-06-11T20:40:34.664Z"
   },
   {
    "duration": 31,
    "start_time": "2023-06-11T20:40:40.629Z"
   },
   {
    "duration": 168,
    "start_time": "2023-06-11T20:41:32.773Z"
   },
   {
    "duration": 3,
    "start_time": "2023-06-11T20:41:53.480Z"
   },
   {
    "duration": 14,
    "start_time": "2023-06-11T20:42:15.684Z"
   },
   {
    "duration": 12,
    "start_time": "2023-06-11T20:42:19.505Z"
   },
   {
    "duration": 39,
    "start_time": "2023-06-11T20:42:54.103Z"
   },
   {
    "duration": 3,
    "start_time": "2023-06-11T20:43:36.609Z"
   },
   {
    "duration": 11,
    "start_time": "2023-06-11T20:43:58.329Z"
   },
   {
    "duration": 10,
    "start_time": "2023-06-11T20:44:07.720Z"
   },
   {
    "duration": 8,
    "start_time": "2023-06-11T20:44:11.701Z"
   },
   {
    "duration": 127,
    "start_time": "2023-06-11T20:46:38.912Z"
   },
   {
    "duration": 1087,
    "start_time": "2023-06-12T15:23:31.637Z"
   },
   {
    "duration": 89,
    "start_time": "2023-06-12T15:23:52.993Z"
   },
   {
    "duration": 171,
    "start_time": "2023-06-12T15:23:56.480Z"
   },
   {
    "duration": 12,
    "start_time": "2023-06-12T15:23:59.441Z"
   },
   {
    "duration": 9,
    "start_time": "2023-06-12T15:24:01.539Z"
   },
   {
    "duration": 18,
    "start_time": "2023-06-12T15:24:02.571Z"
   },
   {
    "duration": 2,
    "start_time": "2023-06-12T15:24:04.637Z"
   },
   {
    "duration": 7,
    "start_time": "2023-06-12T15:24:06.919Z"
   },
   {
    "duration": 22,
    "start_time": "2023-06-12T15:24:08.095Z"
   },
   {
    "duration": 11,
    "start_time": "2023-06-12T15:24:09.996Z"
   },
   {
    "duration": 8,
    "start_time": "2023-06-12T15:24:14.876Z"
   },
   {
    "duration": 107,
    "start_time": "2023-06-12T15:24:16.447Z"
   },
   {
    "duration": 11,
    "start_time": "2023-06-12T15:24:17.563Z"
   },
   {
    "duration": 7,
    "start_time": "2023-06-12T15:24:22.737Z"
   },
   {
    "duration": 6,
    "start_time": "2023-06-12T15:24:26.642Z"
   },
   {
    "duration": 6,
    "start_time": "2023-06-12T15:24:58.442Z"
   },
   {
    "duration": 13,
    "start_time": "2023-06-12T15:26:04.055Z"
   },
   {
    "duration": 16,
    "start_time": "2023-06-12T15:26:11.188Z"
   },
   {
    "duration": 13,
    "start_time": "2023-06-12T15:26:20.263Z"
   },
   {
    "duration": 76,
    "start_time": "2023-06-12T15:26:29.290Z"
   },
   {
    "duration": 4,
    "start_time": "2023-06-12T15:26:36.967Z"
   },
   {
    "duration": 213,
    "start_time": "2023-06-12T15:26:40.367Z"
   },
   {
    "duration": 224,
    "start_time": "2023-06-12T15:26:51.640Z"
   },
   {
    "duration": 46,
    "start_time": "2023-06-12T15:28:42.235Z"
   },
   {
    "duration": 163,
    "start_time": "2023-06-12T15:29:28.295Z"
   },
   {
    "duration": 276,
    "start_time": "2023-06-12T15:29:52.862Z"
   },
   {
    "duration": 269,
    "start_time": "2023-06-12T15:30:04.849Z"
   },
   {
    "duration": 50,
    "start_time": "2023-06-12T15:30:28.442Z"
   },
   {
    "duration": 4,
    "start_time": "2023-06-12T15:30:38.402Z"
   },
   {
    "duration": 235,
    "start_time": "2023-06-12T15:31:03.341Z"
   },
   {
    "duration": 5,
    "start_time": "2023-06-12T15:31:18.266Z"
   },
   {
    "duration": 13,
    "start_time": "2023-06-12T15:31:19.978Z"
   },
   {
    "duration": 48,
    "start_time": "2023-06-12T15:31:21.207Z"
   },
   {
    "duration": 13,
    "start_time": "2023-06-12T15:31:21.498Z"
   },
   {
    "duration": 13,
    "start_time": "2023-06-12T15:31:21.872Z"
   },
   {
    "duration": 17,
    "start_time": "2023-06-12T15:31:22.083Z"
   },
   {
    "duration": 18,
    "start_time": "2023-06-12T15:31:22.312Z"
   },
   {
    "duration": 3,
    "start_time": "2023-06-12T15:31:31.338Z"
   },
   {
    "duration": 177,
    "start_time": "2023-06-12T15:31:32.522Z"
   },
   {
    "duration": 69,
    "start_time": "2023-06-12T15:32:32.542Z"
   },
   {
    "duration": 14,
    "start_time": "2023-06-12T15:34:10.661Z"
   },
   {
    "duration": 42,
    "start_time": "2023-06-12T15:34:14.125Z"
   },
   {
    "duration": 4,
    "start_time": "2023-06-12T15:34:50.230Z"
   },
   {
    "duration": 5,
    "start_time": "2023-06-12T15:51:05.238Z"
   },
   {
    "duration": 5,
    "start_time": "2023-06-12T15:53:17.648Z"
   },
   {
    "duration": 17,
    "start_time": "2023-06-12T15:55:43.234Z"
   },
   {
    "duration": 3,
    "start_time": "2023-06-12T15:55:55.079Z"
   },
   {
    "duration": 11,
    "start_time": "2023-06-12T15:55:57.688Z"
   },
   {
    "duration": 3,
    "start_time": "2023-06-12T15:56:06.807Z"
   },
   {
    "duration": 35,
    "start_time": "2023-06-12T15:56:08.780Z"
   },
   {
    "duration": 3,
    "start_time": "2023-06-12T15:56:24.687Z"
   },
   {
    "duration": 17132,
    "start_time": "2023-06-12T15:56:25.891Z"
   },
   {
    "duration": 4,
    "start_time": "2023-06-12T15:59:02.314Z"
   },
   {
    "duration": 3,
    "start_time": "2023-06-12T15:59:04.222Z"
   },
   {
    "duration": 367,
    "start_time": "2023-06-12T15:59:42.040Z"
   },
   {
    "duration": 354,
    "start_time": "2023-06-12T16:02:05.001Z"
   },
   {
    "duration": 4,
    "start_time": "2023-06-12T16:02:15.118Z"
   },
   {
    "duration": 403,
    "start_time": "2023-06-12T16:02:17.239Z"
   },
   {
    "duration": 368,
    "start_time": "2023-06-12T16:02:23.834Z"
   },
   {
    "duration": 355,
    "start_time": "2023-06-12T16:03:06.834Z"
   },
   {
    "duration": 435,
    "start_time": "2023-06-12T16:03:28.434Z"
   },
   {
    "duration": 9,
    "start_time": "2023-06-12T16:06:09.410Z"
   },
   {
    "duration": 4,
    "start_time": "2023-06-12T16:06:30.527Z"
   },
   {
    "duration": 15,
    "start_time": "2023-06-12T16:14:24.702Z"
   },
   {
    "duration": 16,
    "start_time": "2023-06-12T16:14:44.276Z"
   },
   {
    "duration": 234,
    "start_time": "2023-06-12T16:14:54.655Z"
   },
   {
    "duration": 225,
    "start_time": "2023-06-12T16:15:12.044Z"
   },
   {
    "duration": 9,
    "start_time": "2023-06-12T16:35:20.931Z"
   },
   {
    "duration": 20,
    "start_time": "2023-06-12T16:35:33.472Z"
   },
   {
    "duration": 22,
    "start_time": "2023-06-12T16:36:11.084Z"
   },
   {
    "duration": 65,
    "start_time": "2023-06-12T16:36:42.696Z"
   },
   {
    "duration": 4,
    "start_time": "2023-06-12T16:36:48.984Z"
   },
   {
    "duration": 192,
    "start_time": "2023-06-12T16:36:51.108Z"
   },
   {
    "duration": 81,
    "start_time": "2023-06-12T16:36:57.364Z"
   },
   {
    "duration": 72,
    "start_time": "2023-06-12T16:37:25.532Z"
   },
   {
    "duration": 55,
    "start_time": "2023-06-12T16:38:53.079Z"
   },
   {
    "duration": 3,
    "start_time": "2023-06-12T16:44:11.940Z"
   },
   {
    "duration": 4,
    "start_time": "2023-06-12T16:44:26.640Z"
   },
   {
    "duration": 5,
    "start_time": "2023-06-12T16:44:44.593Z"
   },
   {
    "duration": 6,
    "start_time": "2023-06-12T16:45:10.619Z"
   },
   {
    "duration": 3,
    "start_time": "2023-06-12T16:46:43.616Z"
   },
   {
    "duration": 232,
    "start_time": "2023-06-12T16:47:06.315Z"
   },
   {
    "duration": 13,
    "start_time": "2023-06-12T16:47:43.834Z"
   },
   {
    "duration": 9,
    "start_time": "2023-06-12T16:47:51.605Z"
   },
   {
    "duration": 6,
    "start_time": "2023-06-12T16:48:08.309Z"
   },
   {
    "duration": 13,
    "start_time": "2023-06-12T16:48:11.085Z"
   },
   {
    "duration": 7,
    "start_time": "2023-06-12T16:48:12.207Z"
   },
   {
    "duration": 10,
    "start_time": "2023-06-12T16:48:14.879Z"
   },
   {
    "duration": 5,
    "start_time": "2023-06-12T16:48:18.679Z"
   },
   {
    "duration": 10,
    "start_time": "2023-06-12T16:48:25.379Z"
   },
   {
    "duration": 5,
    "start_time": "2023-06-12T16:48:26.599Z"
   },
   {
    "duration": 9,
    "start_time": "2023-06-12T16:48:28.834Z"
   },
   {
    "duration": 14,
    "start_time": "2023-06-12T16:48:30.652Z"
   },
   {
    "duration": 6,
    "start_time": "2023-06-12T16:49:37.699Z"
   },
   {
    "duration": 3,
    "start_time": "2023-06-12T16:51:02.889Z"
   },
   {
    "duration": 233,
    "start_time": "2023-06-12T16:51:04.215Z"
   },
   {
    "duration": 9,
    "start_time": "2023-06-12T16:51:43.987Z"
   },
   {
    "duration": 3,
    "start_time": "2023-06-12T16:52:12.628Z"
   },
   {
    "duration": 252,
    "start_time": "2023-06-12T16:52:33.146Z"
   },
   {
    "duration": 8,
    "start_time": "2023-06-12T16:52:43.388Z"
   },
   {
    "duration": 14,
    "start_time": "2023-06-12T16:52:46.083Z"
   },
   {
    "duration": 42,
    "start_time": "2023-06-12T16:52:58.488Z"
   },
   {
    "duration": 35,
    "start_time": "2023-06-12T17:19:08.486Z"
   },
   {
    "duration": 344,
    "start_time": "2023-06-12T17:19:47.539Z"
   },
   {
    "duration": 109,
    "start_time": "2023-06-12T17:21:41.905Z"
   },
   {
    "duration": 9,
    "start_time": "2023-06-12T17:28:56.209Z"
   },
   {
    "duration": 3,
    "start_time": "2023-06-12T17:29:03.189Z"
   },
   {
    "duration": 17,
    "start_time": "2023-06-12T17:29:04.889Z"
   },
   {
    "duration": 17,
    "start_time": "2023-06-12T17:29:24.605Z"
   },
   {
    "duration": 4,
    "start_time": "2023-06-12T17:29:33.199Z"
   },
   {
    "duration": 10,
    "start_time": "2023-06-12T17:29:38.966Z"
   },
   {
    "duration": 81,
    "start_time": "2023-06-12T17:29:42.809Z"
   },
   {
    "duration": 3,
    "start_time": "2023-06-12T17:29:59.927Z"
   },
   {
    "duration": 88,
    "start_time": "2023-06-12T17:30:01.841Z"
   },
   {
    "duration": 7,
    "start_time": "2023-06-12T17:30:42.794Z"
   },
   {
    "duration": 29,
    "start_time": "2023-06-12T17:30:43.940Z"
   },
   {
    "duration": 3,
    "start_time": "2023-06-12T17:30:51.586Z"
   },
   {
    "duration": 80,
    "start_time": "2023-06-12T17:30:52.647Z"
   },
   {
    "duration": 4,
    "start_time": "2023-06-12T17:31:11.190Z"
   },
   {
    "duration": 16897,
    "start_time": "2023-06-12T17:31:15.199Z"
   },
   {
    "duration": 4,
    "start_time": "2023-06-12T17:31:32.098Z"
   },
   {
    "duration": 394,
    "start_time": "2023-06-12T17:31:32.104Z"
   },
   {
    "duration": 412,
    "start_time": "2023-06-12T17:31:32.500Z"
   },
   {
    "duration": 9,
    "start_time": "2023-06-12T17:32:15.015Z"
   },
   {
    "duration": 20,
    "start_time": "2023-06-12T17:33:21.861Z"
   },
   {
    "duration": 10,
    "start_time": "2023-06-12T17:33:28.618Z"
   },
   {
    "duration": 11,
    "start_time": "2023-06-12T17:33:54.448Z"
   },
   {
    "duration": 9,
    "start_time": "2023-06-12T17:34:10.733Z"
   },
   {
    "duration": 11,
    "start_time": "2023-06-12T17:34:18.346Z"
   },
   {
    "duration": 10,
    "start_time": "2023-06-12T17:34:19.762Z"
   },
   {
    "duration": 33,
    "start_time": "2023-06-12T17:34:22.128Z"
   },
   {
    "duration": 296,
    "start_time": "2023-06-12T17:34:24.091Z"
   },
   {
    "duration": 86,
    "start_time": "2023-06-12T17:34:26.117Z"
   },
   {
    "duration": 21246,
    "start_time": "2023-06-12T17:34:30.643Z"
   },
   {
    "duration": 3,
    "start_time": "2023-06-12T17:34:54.522Z"
   },
   {
    "duration": 146,
    "start_time": "2023-06-12T20:39:46.670Z"
   },
   {
    "duration": 4,
    "start_time": "2023-06-12T20:40:10.274Z"
   },
   {
    "duration": 8,
    "start_time": "2023-06-12T20:40:15.138Z"
   },
   {
    "duration": 5,
    "start_time": "2023-06-12T20:40:26.801Z"
   },
   {
    "duration": 8,
    "start_time": "2023-06-12T20:40:28.373Z"
   },
   {
    "duration": 14,
    "start_time": "2023-06-12T20:40:46.373Z"
   },
   {
    "duration": 201,
    "start_time": "2023-06-12T20:40:53.494Z"
   },
   {
    "duration": 15540,
    "start_time": "2023-06-12T20:41:00.607Z"
   },
   {
    "duration": 362,
    "start_time": "2023-06-12T20:41:16.149Z"
   },
   {
    "duration": 375,
    "start_time": "2023-06-12T20:41:16.513Z"
   },
   {
    "duration": 414,
    "start_time": "2023-06-12T20:41:42.269Z"
   },
   {
    "duration": 4,
    "start_time": "2023-06-12T20:41:46.875Z"
   },
   {
    "duration": 234,
    "start_time": "2023-06-12T20:41:48.682Z"
   },
   {
    "duration": 22,
    "start_time": "2023-06-12T20:41:50.907Z"
   },
   {
    "duration": 9,
    "start_time": "2023-06-12T20:41:52.649Z"
   },
   {
    "duration": 78,
    "start_time": "2023-06-12T20:41:57.470Z"
   },
   {
    "duration": 4,
    "start_time": "2023-06-12T20:42:02.384Z"
   },
   {
    "duration": 10,
    "start_time": "2023-06-12T20:42:07.780Z"
   },
   {
    "duration": 31,
    "start_time": "2023-06-12T20:42:09.575Z"
   },
   {
    "duration": 272,
    "start_time": "2023-06-12T20:42:11.310Z"
   },
   {
    "duration": 30,
    "start_time": "2023-06-12T20:42:13.362Z"
   },
   {
    "duration": 97,
    "start_time": "2023-06-12T20:42:20.171Z"
   },
   {
    "duration": 196,
    "start_time": "2023-06-12T20:43:47.420Z"
   },
   {
    "duration": 76,
    "start_time": "2023-06-12T20:46:28.240Z"
   },
   {
    "duration": 205,
    "start_time": "2023-06-12T20:46:32.211Z"
   },
   {
    "duration": 475,
    "start_time": "2023-06-12T20:46:46.953Z"
   },
   {
    "duration": 6,
    "start_time": "2023-06-12T20:51:35.740Z"
   },
   {
    "duration": 14,
    "start_time": "2023-06-12T20:51:56.072Z"
   },
   {
    "duration": 10,
    "start_time": "2023-06-12T20:52:21.168Z"
   },
   {
    "duration": 7,
    "start_time": "2023-06-12T20:52:30.827Z"
   },
   {
    "duration": 18,
    "start_time": "2023-06-12T20:52:35.755Z"
   },
   {
    "duration": 58,
    "start_time": "2023-06-12T20:52:57.616Z"
   },
   {
    "duration": 5,
    "start_time": "2023-06-12T20:53:12.344Z"
   },
   {
    "duration": 6,
    "start_time": "2023-06-12T20:53:21.239Z"
   },
   {
    "duration": 8,
    "start_time": "2023-06-12T20:54:07.449Z"
   },
   {
    "duration": 17,
    "start_time": "2023-06-12T20:54:29.003Z"
   },
   {
    "duration": 135,
    "start_time": "2023-06-12T20:54:55.817Z"
   },
   {
    "duration": 17,
    "start_time": "2023-06-12T20:55:08.875Z"
   },
   {
    "duration": 86,
    "start_time": "2023-06-12T20:55:28.103Z"
   },
   {
    "duration": 204,
    "start_time": "2023-06-12T20:57:34.584Z"
   },
   {
    "duration": 2,
    "start_time": "2023-06-12T20:59:20.712Z"
   },
   {
    "duration": 10548,
    "start_time": "2023-06-12T21:01:02.921Z"
   },
   {
    "duration": 5,
    "start_time": "2023-06-12T21:01:13.479Z"
   },
   {
    "duration": 202,
    "start_time": "2023-06-12T21:01:21.681Z"
   },
   {
    "duration": 221,
    "start_time": "2023-06-12T21:03:21.728Z"
   },
   {
    "duration": 460,
    "start_time": "2023-06-12T21:03:35.973Z"
   },
   {
    "duration": 416,
    "start_time": "2023-06-12T21:03:45.189Z"
   },
   {
    "duration": 184,
    "start_time": "2023-06-12T21:03:49.824Z"
   },
   {
    "duration": 420,
    "start_time": "2023-06-12T21:04:10.318Z"
   },
   {
    "duration": 3,
    "start_time": "2023-06-12T21:06:33.363Z"
   },
   {
    "duration": 25,
    "start_time": "2023-06-12T21:07:11.458Z"
   },
   {
    "duration": 21,
    "start_time": "2023-06-12T21:08:54.669Z"
   },
   {
    "duration": 9,
    "start_time": "2023-06-12T21:13:08.586Z"
   },
   {
    "duration": 41,
    "start_time": "2023-06-12T21:14:56.476Z"
   },
   {
    "duration": 1132,
    "start_time": "2023-06-12T21:50:12.837Z"
   },
   {
    "duration": 66,
    "start_time": "2023-06-12T21:50:13.971Z"
   },
   {
    "duration": 3,
    "start_time": "2023-06-12T21:50:14.039Z"
   },
   {
    "duration": 24,
    "start_time": "2023-06-12T21:50:14.044Z"
   },
   {
    "duration": 8,
    "start_time": "2023-06-12T21:50:14.070Z"
   },
   {
    "duration": 16,
    "start_time": "2023-06-12T21:50:14.080Z"
   },
   {
    "duration": 7,
    "start_time": "2023-06-12T21:50:14.097Z"
   },
   {
    "duration": 12,
    "start_time": "2023-06-12T21:50:14.105Z"
   },
   {
    "duration": 48,
    "start_time": "2023-06-12T21:50:14.118Z"
   },
   {
    "duration": 13,
    "start_time": "2023-06-12T21:50:14.169Z"
   },
   {
    "duration": 9,
    "start_time": "2023-06-12T21:50:14.184Z"
   },
   {
    "duration": 63,
    "start_time": "2023-06-12T21:50:14.195Z"
   },
   {
    "duration": 103,
    "start_time": "2023-06-12T21:50:14.260Z"
   },
   {
    "duration": 8,
    "start_time": "2023-06-12T21:50:14.366Z"
   },
   {
    "duration": 3,
    "start_time": "2023-06-12T21:50:14.376Z"
   },
   {
    "duration": 246,
    "start_time": "2023-06-12T21:50:14.381Z"
   },
   {
    "duration": 0,
    "start_time": "2023-06-12T21:50:14.629Z"
   },
   {
    "duration": 0,
    "start_time": "2023-06-12T21:50:14.630Z"
   },
   {
    "duration": 0,
    "start_time": "2023-06-12T21:50:14.631Z"
   },
   {
    "duration": 0,
    "start_time": "2023-06-12T21:50:14.632Z"
   },
   {
    "duration": 0,
    "start_time": "2023-06-12T21:50:14.634Z"
   },
   {
    "duration": 0,
    "start_time": "2023-06-12T21:50:14.654Z"
   },
   {
    "duration": 0,
    "start_time": "2023-06-12T21:50:14.654Z"
   },
   {
    "duration": 0,
    "start_time": "2023-06-12T21:50:14.655Z"
   },
   {
    "duration": 0,
    "start_time": "2023-06-12T21:50:14.656Z"
   },
   {
    "duration": 0,
    "start_time": "2023-06-12T21:50:14.656Z"
   },
   {
    "duration": 0,
    "start_time": "2023-06-12T21:50:14.657Z"
   },
   {
    "duration": 0,
    "start_time": "2023-06-12T21:50:14.663Z"
   },
   {
    "duration": 0,
    "start_time": "2023-06-12T21:50:14.664Z"
   },
   {
    "duration": 0,
    "start_time": "2023-06-12T21:50:14.665Z"
   },
   {
    "duration": 0,
    "start_time": "2023-06-12T21:50:14.667Z"
   },
   {
    "duration": 0,
    "start_time": "2023-06-12T21:50:14.668Z"
   },
   {
    "duration": 0,
    "start_time": "2023-06-12T21:50:14.669Z"
   },
   {
    "duration": 0,
    "start_time": "2023-06-12T21:50:14.670Z"
   },
   {
    "duration": 1,
    "start_time": "2023-06-12T21:50:14.671Z"
   },
   {
    "duration": 0,
    "start_time": "2023-06-12T21:50:14.674Z"
   },
   {
    "duration": 0,
    "start_time": "2023-06-12T21:50:14.675Z"
   },
   {
    "duration": 0,
    "start_time": "2023-06-12T21:50:14.676Z"
   },
   {
    "duration": 0,
    "start_time": "2023-06-12T21:50:14.677Z"
   },
   {
    "duration": 0,
    "start_time": "2023-06-12T21:50:14.679Z"
   },
   {
    "duration": 0,
    "start_time": "2023-06-12T21:50:14.680Z"
   },
   {
    "duration": 0,
    "start_time": "2023-06-12T21:50:14.681Z"
   },
   {
    "duration": 0,
    "start_time": "2023-06-12T21:50:14.683Z"
   },
   {
    "duration": 0,
    "start_time": "2023-06-12T21:50:14.684Z"
   },
   {
    "duration": 0,
    "start_time": "2023-06-12T21:50:14.686Z"
   },
   {
    "duration": 0,
    "start_time": "2023-06-12T21:50:14.687Z"
   },
   {
    "duration": 0,
    "start_time": "2023-06-12T21:50:14.689Z"
   },
   {
    "duration": 0,
    "start_time": "2023-06-12T21:50:14.690Z"
   },
   {
    "duration": 0,
    "start_time": "2023-06-12T21:50:14.691Z"
   },
   {
    "duration": 4,
    "start_time": "2023-06-12T21:50:27.203Z"
   },
   {
    "duration": 53,
    "start_time": "2023-06-12T21:50:28.718Z"
   },
   {
    "duration": 14,
    "start_time": "2023-06-12T21:50:31.489Z"
   },
   {
    "duration": 16,
    "start_time": "2023-06-12T21:51:19.691Z"
   },
   {
    "duration": 12,
    "start_time": "2023-06-12T21:51:25.802Z"
   },
   {
    "duration": 47,
    "start_time": "2023-06-12T21:51:26.869Z"
   },
   {
    "duration": 22,
    "start_time": "2023-06-12T21:51:28.748Z"
   },
   {
    "duration": 9,
    "start_time": "2023-06-12T21:51:31.670Z"
   },
   {
    "duration": 23,
    "start_time": "2023-06-12T21:51:32.747Z"
   },
   {
    "duration": 3,
    "start_time": "2023-06-12T21:51:34.997Z"
   },
   {
    "duration": 11,
    "start_time": "2023-06-12T21:51:35.974Z"
   },
   {
    "duration": 42,
    "start_time": "2023-06-12T21:51:36.971Z"
   },
   {
    "duration": 15,
    "start_time": "2023-06-12T21:51:38.453Z"
   },
   {
    "duration": 6,
    "start_time": "2023-06-12T21:51:41.117Z"
   },
   {
    "duration": 17,
    "start_time": "2023-06-12T21:51:45.094Z"
   },
   {
    "duration": 6,
    "start_time": "2023-06-12T21:51:46.812Z"
   },
   {
    "duration": 8,
    "start_time": "2023-06-12T21:51:48.491Z"
   },
   {
    "duration": 3,
    "start_time": "2023-06-12T21:51:52.876Z"
   },
   {
    "duration": 13,
    "start_time": "2023-06-12T21:51:54.168Z"
   },
   {
    "duration": 4,
    "start_time": "2023-06-12T21:52:32.568Z"
   },
   {
    "duration": 176,
    "start_time": "2023-06-12T21:52:36.825Z"
   },
   {
    "duration": 3,
    "start_time": "2023-06-12T21:52:55.848Z"
   },
   {
    "duration": 13909,
    "start_time": "2023-06-12T21:52:57.830Z"
   },
   {
    "duration": 3,
    "start_time": "2023-06-12T21:53:11.741Z"
   },
   {
    "duration": 139,
    "start_time": "2023-06-12T21:53:11.746Z"
   },
   {
    "duration": 150,
    "start_time": "2023-06-12T21:54:11.894Z"
   },
   {
    "duration": 219,
    "start_time": "2023-06-12T21:54:16.761Z"
   },
   {
    "duration": 4,
    "start_time": "2023-06-12T21:54:31.843Z"
   },
   {
    "duration": 189,
    "start_time": "2023-06-12T21:54:32.935Z"
   },
   {
    "duration": 19,
    "start_time": "2023-06-12T21:54:35.233Z"
   },
   {
    "duration": 9,
    "start_time": "2023-06-12T21:54:39.315Z"
   },
   {
    "duration": 88,
    "start_time": "2023-06-12T21:54:42.333Z"
   },
   {
    "duration": 3,
    "start_time": "2023-06-12T21:57:04.769Z"
   },
   {
    "duration": 5,
    "start_time": "2023-06-12T21:57:06.972Z"
   },
   {
    "duration": 13,
    "start_time": "2023-06-12T21:57:08.549Z"
   },
   {
    "duration": 5,
    "start_time": "2023-06-12T21:57:10.643Z"
   },
   {
    "duration": 25,
    "start_time": "2023-06-12T21:57:12.710Z"
   },
   {
    "duration": 234,
    "start_time": "2023-06-12T21:57:14.190Z"
   },
   {
    "duration": 8,
    "start_time": "2023-06-12T21:57:17.807Z"
   },
   {
    "duration": 25,
    "start_time": "2023-06-12T21:57:29.185Z"
   },
   {
    "duration": 107,
    "start_time": "2023-06-12T21:57:39.552Z"
   },
   {
    "duration": 19153,
    "start_time": "2023-06-12T21:57:59.269Z"
   },
   {
    "duration": 3,
    "start_time": "2023-06-12T21:58:18.424Z"
   },
   {
    "duration": 193,
    "start_time": "2023-06-12T21:58:18.429Z"
   },
   {
    "duration": 356,
    "start_time": "2023-06-12T21:58:18.624Z"
   },
   {
    "duration": 0,
    "start_time": "2023-06-12T21:58:18.982Z"
   },
   {
    "duration": 0,
    "start_time": "2023-06-12T21:58:18.983Z"
   },
   {
    "duration": 0,
    "start_time": "2023-06-12T21:58:18.984Z"
   },
   {
    "duration": 0,
    "start_time": "2023-06-12T21:58:18.985Z"
   },
   {
    "duration": 0,
    "start_time": "2023-06-12T21:58:18.986Z"
   },
   {
    "duration": 0,
    "start_time": "2023-06-12T21:58:18.987Z"
   },
   {
    "duration": 0,
    "start_time": "2023-06-12T21:58:18.988Z"
   },
   {
    "duration": 405,
    "start_time": "2023-06-12T21:58:33.769Z"
   },
   {
    "duration": 4,
    "start_time": "2023-06-12T21:58:46.130Z"
   },
   {
    "duration": 5,
    "start_time": "2023-06-12T21:58:47.926Z"
   },
   {
    "duration": 9,
    "start_time": "2023-06-12T21:58:49.140Z"
   },
   {
    "duration": 6,
    "start_time": "2023-06-12T21:58:50.522Z"
   },
   {
    "duration": 27,
    "start_time": "2023-06-12T21:58:52.739Z"
   },
   {
    "duration": 162,
    "start_time": "2023-06-12T21:58:54.121Z"
   },
   {
    "duration": 20,
    "start_time": "2023-06-12T21:58:56.040Z"
   },
   {
    "duration": 114,
    "start_time": "2023-06-12T21:59:02.554Z"
   },
   {
    "duration": 9261,
    "start_time": "2023-06-12T21:59:15.691Z"
   },
   {
    "duration": 16,
    "start_time": "2023-06-12T21:59:24.954Z"
   },
   {
    "duration": 213,
    "start_time": "2023-06-12T21:59:24.972Z"
   },
   {
    "duration": 384,
    "start_time": "2023-06-12T21:59:25.187Z"
   },
   {
    "duration": 0,
    "start_time": "2023-06-12T21:59:25.573Z"
   },
   {
    "duration": 457,
    "start_time": "2023-06-12T21:59:35.971Z"
   },
   {
    "duration": 7,
    "start_time": "2023-06-12T22:04:10.653Z"
   },
   {
    "duration": 13608,
    "start_time": "2023-06-12T22:04:25.070Z"
   },
   {
    "duration": 3,
    "start_time": "2023-06-12T22:04:38.680Z"
   },
   {
    "duration": 154,
    "start_time": "2023-06-12T22:15:51.215Z"
   },
   {
    "duration": 163,
    "start_time": "2023-06-12T22:16:16.172Z"
   },
   {
    "duration": 139,
    "start_time": "2023-06-12T22:16:35.187Z"
   },
   {
    "duration": 193,
    "start_time": "2023-06-12T22:17:06.952Z"
   },
   {
    "duration": 27,
    "start_time": "2023-06-12T22:18:18.452Z"
   },
   {
    "duration": 18,
    "start_time": "2023-06-12T22:18:24.501Z"
   },
   {
    "duration": 29,
    "start_time": "2023-06-12T22:18:29.266Z"
   },
   {
    "duration": 20,
    "start_time": "2023-06-12T22:18:52.511Z"
   },
   {
    "duration": 48,
    "start_time": "2023-06-12T22:19:03.207Z"
   },
   {
    "duration": 6,
    "start_time": "2023-06-12T22:24:26.444Z"
   },
   {
    "duration": 4,
    "start_time": "2023-06-12T22:24:40.784Z"
   },
   {
    "duration": 5,
    "start_time": "2023-06-12T22:24:43.516Z"
   },
   {
    "duration": 22,
    "start_time": "2023-06-12T22:27:54.288Z"
   },
   {
    "duration": 46,
    "start_time": "2023-06-12T22:28:37.124Z"
   },
   {
    "duration": 4,
    "start_time": "2023-06-12T22:29:02.516Z"
   },
   {
    "duration": 26,
    "start_time": "2023-06-12T22:29:04.938Z"
   },
   {
    "duration": 4,
    "start_time": "2023-06-12T22:29:41.326Z"
   },
   {
    "duration": 86,
    "start_time": "2023-06-12T22:29:45.784Z"
   },
   {
    "duration": 4,
    "start_time": "2023-06-12T22:30:01.418Z"
   },
   {
    "duration": 5,
    "start_time": "2023-06-12T22:30:04.319Z"
   },
   {
    "duration": 187,
    "start_time": "2023-06-12T22:30:08.675Z"
   },
   {
    "duration": 396,
    "start_time": "2023-06-12T22:30:22.805Z"
   },
   {
    "duration": 5,
    "start_time": "2023-06-12T22:30:26.816Z"
   },
   {
    "duration": 157,
    "start_time": "2023-06-12T22:30:29.413Z"
   },
   {
    "duration": 5,
    "start_time": "2023-06-12T22:30:45.024Z"
   },
   {
    "duration": 299,
    "start_time": "2023-06-12T22:30:47.493Z"
   },
   {
    "duration": 142,
    "start_time": "2023-06-12T22:31:54.141Z"
   },
   {
    "duration": 141,
    "start_time": "2023-06-12T22:31:59.394Z"
   },
   {
    "duration": 3,
    "start_time": "2023-06-12T22:32:48.271Z"
   },
   {
    "duration": 14,
    "start_time": "2023-06-12T22:32:49.786Z"
   },
   {
    "duration": 17,
    "start_time": "2023-06-12T22:33:05.573Z"
   },
   {
    "duration": 6,
    "start_time": "2023-06-12T22:33:16.675Z"
   },
   {
    "duration": 17,
    "start_time": "2023-06-12T22:33:20.036Z"
   },
   {
    "duration": 201,
    "start_time": "2023-06-12T22:33:21.295Z"
   },
   {
    "duration": 15,
    "start_time": "2023-06-12T22:33:53.631Z"
   },
   {
    "duration": 135,
    "start_time": "2023-06-12T22:34:06.143Z"
   },
   {
    "duration": 165,
    "start_time": "2023-06-12T22:34:37.667Z"
   },
   {
    "duration": 140,
    "start_time": "2023-06-12T22:34:39.276Z"
   },
   {
    "duration": 199,
    "start_time": "2023-06-12T22:37:21.871Z"
   },
   {
    "duration": 165,
    "start_time": "2023-06-12T22:37:24.723Z"
   },
   {
    "duration": 171,
    "start_time": "2023-06-12T22:37:40.501Z"
   },
   {
    "duration": 1361,
    "start_time": "2023-06-12T22:38:00.313Z"
   },
   {
    "duration": 54,
    "start_time": "2023-06-12T22:38:01.676Z"
   },
   {
    "duration": 4,
    "start_time": "2023-06-12T22:38:01.731Z"
   },
   {
    "duration": 93,
    "start_time": "2023-06-12T22:38:01.737Z"
   },
   {
    "duration": 37,
    "start_time": "2023-06-12T22:38:01.833Z"
   },
   {
    "duration": 19,
    "start_time": "2023-06-12T22:38:01.872Z"
   },
   {
    "duration": 13,
    "start_time": "2023-06-12T22:38:01.892Z"
   },
   {
    "duration": 26,
    "start_time": "2023-06-12T22:38:01.907Z"
   },
   {
    "duration": 38,
    "start_time": "2023-06-12T22:38:01.935Z"
   },
   {
    "duration": 10,
    "start_time": "2023-06-12T22:38:01.975Z"
   },
   {
    "duration": 12,
    "start_time": "2023-06-12T22:38:01.987Z"
   },
   {
    "duration": 20,
    "start_time": "2023-06-12T22:38:02.001Z"
   },
   {
    "duration": 49,
    "start_time": "2023-06-12T22:38:02.022Z"
   },
   {
    "duration": 79,
    "start_time": "2023-06-12T22:38:02.076Z"
   },
   {
    "duration": 14,
    "start_time": "2023-06-12T22:38:02.157Z"
   },
   {
    "duration": 314,
    "start_time": "2023-06-12T22:38:02.255Z"
   },
   {
    "duration": 3,
    "start_time": "2023-06-12T22:38:02.571Z"
   },
   {
    "duration": 240,
    "start_time": "2023-06-12T22:38:02.576Z"
   },
   {
    "duration": 3,
    "start_time": "2023-06-12T22:38:02.818Z"
   },
   {
    "duration": 16438,
    "start_time": "2023-06-12T22:38:02.823Z"
   },
   {
    "duration": 4,
    "start_time": "2023-06-12T22:38:19.263Z"
   },
   {
    "duration": 153,
    "start_time": "2023-06-12T22:38:19.269Z"
   },
   {
    "duration": 148,
    "start_time": "2023-06-12T22:38:19.424Z"
   },
   {
    "duration": 160,
    "start_time": "2023-06-12T22:38:19.574Z"
   },
   {
    "duration": 263,
    "start_time": "2023-06-12T22:38:19.736Z"
   },
   {
    "duration": 4,
    "start_time": "2023-06-12T22:38:20.001Z"
   },
   {
    "duration": 225,
    "start_time": "2023-06-12T22:38:20.006Z"
   },
   {
    "duration": 24,
    "start_time": "2023-06-12T22:38:20.233Z"
   },
   {
    "duration": 149,
    "start_time": "2023-06-12T22:38:20.261Z"
   },
   {
    "duration": 6,
    "start_time": "2023-06-12T22:38:20.411Z"
   },
   {
    "duration": 107,
    "start_time": "2023-06-12T22:38:20.418Z"
   },
   {
    "duration": 4,
    "start_time": "2023-06-12T22:38:20.527Z"
   },
   {
    "duration": 12,
    "start_time": "2023-06-12T22:38:20.532Z"
   },
   {
    "duration": 34,
    "start_time": "2023-06-12T22:38:20.545Z"
   },
   {
    "duration": 10,
    "start_time": "2023-06-12T22:38:20.580Z"
   },
   {
    "duration": 40,
    "start_time": "2023-06-12T22:38:20.591Z"
   },
   {
    "duration": 264,
    "start_time": "2023-06-12T22:38:20.633Z"
   },
   {
    "duration": 15,
    "start_time": "2023-06-12T22:38:20.899Z"
   },
   {
    "duration": 158,
    "start_time": "2023-06-12T22:38:20.916Z"
   },
   {
    "duration": 111,
    "start_time": "2023-06-12T22:38:21.075Z"
   },
   {
    "duration": 20099,
    "start_time": "2023-06-12T22:38:21.190Z"
   },
   {
    "duration": 4,
    "start_time": "2023-06-12T22:38:41.291Z"
   },
   {
    "duration": 180,
    "start_time": "2023-06-12T22:38:41.297Z"
   },
   {
    "duration": 189,
    "start_time": "2023-06-12T22:38:41.479Z"
   },
   {
    "duration": 209,
    "start_time": "2023-06-12T22:38:41.670Z"
   },
   {
    "duration": 426,
    "start_time": "2023-06-12T22:38:41.880Z"
   },
   {
    "duration": 4,
    "start_time": "2023-06-12T22:38:42.307Z"
   },
   {
    "duration": 8,
    "start_time": "2023-06-12T22:38:42.312Z"
   },
   {
    "duration": 10,
    "start_time": "2023-06-12T22:38:42.322Z"
   },
   {
    "duration": 26,
    "start_time": "2023-06-12T22:38:42.333Z"
   },
   {
    "duration": 34,
    "start_time": "2023-06-12T22:38:42.362Z"
   },
   {
    "duration": 173,
    "start_time": "2023-06-12T22:38:42.398Z"
   },
   {
    "duration": 101,
    "start_time": "2023-06-12T22:38:42.573Z"
   },
   {
    "duration": 9203,
    "start_time": "2023-06-12T22:38:42.676Z"
   },
   {
    "duration": 4,
    "start_time": "2023-06-12T22:38:51.880Z"
   },
   {
    "duration": 194,
    "start_time": "2023-06-12T22:38:51.886Z"
   },
   {
    "duration": 198,
    "start_time": "2023-06-12T22:38:52.082Z"
   },
   {
    "duration": 165,
    "start_time": "2023-06-12T22:38:52.282Z"
   },
   {
    "duration": 463,
    "start_time": "2023-06-12T22:38:52.449Z"
   },
   {
    "duration": 49,
    "start_time": "2023-06-12T22:38:52.914Z"
   },
   {
    "duration": 326,
    "start_time": "2023-06-12T22:38:52.965Z"
   },
   {
    "duration": 4,
    "start_time": "2023-06-12T22:38:53.292Z"
   },
   {
    "duration": 154,
    "start_time": "2023-06-12T22:38:53.297Z"
   },
   {
    "duration": 185,
    "start_time": "2023-06-12T22:38:53.457Z"
   },
   {
    "duration": 28,
    "start_time": "2023-06-12T22:38:53.644Z"
   },
   {
    "duration": 91,
    "start_time": "2023-06-12T22:38:53.674Z"
   },
   {
    "duration": 2381,
    "start_time": "2023-06-13T03:45:13.689Z"
   },
   {
    "duration": 120,
    "start_time": "2023-06-13T03:45:16.073Z"
   },
   {
    "duration": 5,
    "start_time": "2023-06-13T03:45:16.312Z"
   },
   {
    "duration": 16,
    "start_time": "2023-06-13T03:46:57.465Z"
   },
   {
    "duration": 10,
    "start_time": "2023-06-13T03:47:18.896Z"
   },
   {
    "duration": 30,
    "start_time": "2023-06-13T03:47:20.933Z"
   },
   {
    "duration": 4,
    "start_time": "2023-06-13T03:48:52.757Z"
   },
   {
    "duration": 16,
    "start_time": "2023-06-13T03:49:03.506Z"
   },
   {
    "duration": 19,
    "start_time": "2023-06-13T03:49:27.905Z"
   },
   {
    "duration": 48,
    "start_time": "2023-06-13T03:49:43.292Z"
   },
   {
    "duration": 16,
    "start_time": "2023-06-13T03:52:21.668Z"
   },
   {
    "duration": 5,
    "start_time": "2023-06-13T03:52:53.185Z"
   },
   {
    "duration": 11,
    "start_time": "2023-06-13T03:53:03.379Z"
   },
   {
    "duration": 38,
    "start_time": "2023-06-13T03:55:33.014Z"
   },
   {
    "duration": 8,
    "start_time": "2023-06-13T03:55:40.225Z"
   },
   {
    "duration": 13,
    "start_time": "2023-06-13T03:55:40.687Z"
   },
   {
    "duration": 341,
    "start_time": "2023-06-13T03:55:43.366Z"
   },
   {
    "duration": 6,
    "start_time": "2023-06-13T03:56:58.569Z"
   },
   {
    "duration": 6,
    "start_time": "2023-06-13T03:58:52.984Z"
   },
   {
    "duration": 16766,
    "start_time": "2023-06-13T03:59:01.042Z"
   },
   {
    "duration": 14,
    "start_time": "2023-06-13T04:00:08.965Z"
   },
   {
    "duration": 186,
    "start_time": "2023-06-13T04:00:12.699Z"
   },
   {
    "duration": 194,
    "start_time": "2023-06-13T04:00:18.406Z"
   },
   {
    "duration": 225,
    "start_time": "2023-06-13T04:01:59.390Z"
   },
   {
    "duration": 3,
    "start_time": "2023-06-13T04:05:32.588Z"
   },
   {
    "duration": 27,
    "start_time": "2023-06-13T04:12:54.867Z"
   },
   {
    "duration": 125,
    "start_time": "2023-06-13T04:12:55.395Z"
   },
   {
    "duration": 5,
    "start_time": "2023-06-13T04:13:37.605Z"
   },
   {
    "duration": 17,
    "start_time": "2023-06-13T04:13:47.945Z"
   },
   {
    "duration": 18,
    "start_time": "2023-06-13T04:13:48.479Z"
   },
   {
    "duration": 9,
    "start_time": "2023-06-13T04:14:02.794Z"
   },
   {
    "duration": 124,
    "start_time": "2023-06-13T04:15:19.965Z"
   },
   {
    "duration": 6,
    "start_time": "2023-06-13T04:19:21.885Z"
   },
   {
    "duration": 13,
    "start_time": "2023-06-13T04:19:22.753Z"
   },
   {
    "duration": 15,
    "start_time": "2023-06-13T04:19:24.131Z"
   },
   {
    "duration": 10,
    "start_time": "2023-06-13T04:19:25.278Z"
   },
   {
    "duration": 70,
    "start_time": "2023-06-13T06:27:08.620Z"
   },
   {
    "duration": 1737,
    "start_time": "2023-06-13T06:27:11.622Z"
   },
   {
    "duration": 116,
    "start_time": "2023-06-13T06:27:14.494Z"
   },
   {
    "duration": 5,
    "start_time": "2023-06-13T06:27:16.978Z"
   },
   {
    "duration": 14,
    "start_time": "2023-06-13T06:27:38.761Z"
   },
   {
    "duration": 14,
    "start_time": "2023-06-13T06:27:44.627Z"
   },
   {
    "duration": 12,
    "start_time": "2023-06-13T06:27:46.981Z"
   },
   {
    "duration": 44,
    "start_time": "2023-06-13T06:28:03.738Z"
   },
   {
    "duration": 4,
    "start_time": "2023-06-13T06:29:38.380Z"
   },
   {
    "duration": 4,
    "start_time": "2023-06-13T06:30:52.428Z"
   },
   {
    "duration": 3,
    "start_time": "2023-06-13T06:31:59.070Z"
   },
   {
    "duration": 4,
    "start_time": "2023-06-13T06:32:58.119Z"
   },
   {
    "duration": 3,
    "start_time": "2023-06-13T06:33:14.212Z"
   },
   {
    "duration": 111,
    "start_time": "2023-06-13T06:36:55.326Z"
   },
   {
    "duration": 1623,
    "start_time": "2023-06-13T06:40:50.278Z"
   },
   {
    "duration": 68,
    "start_time": "2023-06-13T06:40:51.904Z"
   },
   {
    "duration": 4,
    "start_time": "2023-06-13T06:40:51.974Z"
   },
   {
    "duration": 47,
    "start_time": "2023-06-13T06:40:51.980Z"
   },
   {
    "duration": 55,
    "start_time": "2023-06-13T06:40:52.029Z"
   },
   {
    "duration": 26,
    "start_time": "2023-06-13T06:40:52.087Z"
   },
   {
    "duration": 27,
    "start_time": "2023-06-13T06:40:52.115Z"
   },
   {
    "duration": 47,
    "start_time": "2023-06-13T06:40:52.144Z"
   },
   {
    "duration": 12,
    "start_time": "2023-06-13T06:40:52.193Z"
   },
   {
    "duration": 25,
    "start_time": "2023-06-13T06:40:52.207Z"
   },
   {
    "duration": 72,
    "start_time": "2023-06-13T06:40:52.234Z"
   },
   {
    "duration": 18,
    "start_time": "2023-06-13T06:40:52.308Z"
   },
   {
    "duration": 35,
    "start_time": "2023-06-13T06:40:52.328Z"
   },
   {
    "duration": 36,
    "start_time": "2023-06-13T06:40:52.366Z"
   },
   {
    "duration": 31,
    "start_time": "2023-06-13T06:40:52.405Z"
   },
   {
    "duration": 11,
    "start_time": "2023-06-13T06:40:52.549Z"
   },
   {
    "duration": 43,
    "start_time": "2023-06-13T06:40:52.563Z"
   },
   {
    "duration": 15,
    "start_time": "2023-06-13T06:40:52.609Z"
   },
   {
    "duration": 329,
    "start_time": "2023-06-13T06:40:52.627Z"
   },
   {
    "duration": 5,
    "start_time": "2023-06-13T06:40:52.958Z"
   },
   {
    "duration": 16475,
    "start_time": "2023-06-13T06:40:52.967Z"
   },
   {
    "duration": 16,
    "start_time": "2023-06-13T06:41:09.444Z"
   },
   {
    "duration": 202,
    "start_time": "2023-06-13T06:41:09.463Z"
   },
   {
    "duration": 166,
    "start_time": "2023-06-13T06:41:09.668Z"
   },
   {
    "duration": 279,
    "start_time": "2023-06-13T06:41:09.836Z"
   },
   {
    "duration": 3,
    "start_time": "2023-06-13T06:41:10.117Z"
   },
   {
    "duration": 266,
    "start_time": "2023-06-13T06:41:10.123Z"
   },
   {
    "duration": 20,
    "start_time": "2023-06-13T06:41:10.391Z"
   },
   {
    "duration": 23,
    "start_time": "2023-06-13T06:41:10.413Z"
   },
   {
    "duration": 139,
    "start_time": "2023-06-13T06:41:10.438Z"
   },
   {
    "duration": 5,
    "start_time": "2023-06-13T06:41:10.578Z"
   },
   {
    "duration": 33,
    "start_time": "2023-06-13T06:41:10.585Z"
   },
   {
    "duration": 21,
    "start_time": "2023-06-13T06:41:10.620Z"
   },
   {
    "duration": 34,
    "start_time": "2023-06-13T06:41:10.643Z"
   },
   {
    "duration": 68,
    "start_time": "2023-06-13T06:41:10.679Z"
   },
   {
    "duration": 296,
    "start_time": "2023-06-13T06:41:10.756Z"
   },
   {
    "duration": 24,
    "start_time": "2023-06-13T06:41:11.055Z"
   },
   {
    "duration": 144,
    "start_time": "2023-06-13T06:41:11.081Z"
   },
   {
    "duration": 23951,
    "start_time": "2023-06-13T06:41:11.227Z"
   },
   {
    "duration": 6,
    "start_time": "2023-06-13T06:41:35.180Z"
   },
   {
    "duration": 720,
    "start_time": "2023-06-13T06:41:35.190Z"
   },
   {
    "duration": 208,
    "start_time": "2023-06-13T06:41:35.912Z"
   },
   {
    "duration": 500,
    "start_time": "2023-06-13T06:41:36.122Z"
   },
   {
    "duration": 5,
    "start_time": "2023-06-13T06:41:36.623Z"
   },
   {
    "duration": 24,
    "start_time": "2023-06-13T06:41:36.630Z"
   },
   {
    "duration": 44,
    "start_time": "2023-06-13T06:41:36.658Z"
   },
   {
    "duration": 11,
    "start_time": "2023-06-13T06:41:36.704Z"
   },
   {
    "duration": 35,
    "start_time": "2023-06-13T06:41:36.717Z"
   },
   {
    "duration": 217,
    "start_time": "2023-06-13T06:41:36.754Z"
   },
   {
    "duration": 136,
    "start_time": "2023-06-13T06:41:36.974Z"
   },
   {
    "duration": 11057,
    "start_time": "2023-06-13T06:41:37.112Z"
   },
   {
    "duration": 5,
    "start_time": "2023-06-13T06:41:48.171Z"
   },
   {
    "duration": 293,
    "start_time": "2023-06-13T06:41:48.178Z"
   },
   {
    "duration": 287,
    "start_time": "2023-06-13T06:41:48.473Z"
   },
   {
    "duration": 621,
    "start_time": "2023-06-13T06:41:48.762Z"
   },
   {
    "duration": 66,
    "start_time": "2023-06-13T06:41:49.384Z"
   },
   {
    "duration": 110,
    "start_time": "2023-06-13T06:41:49.457Z"
   },
   {
    "duration": 238,
    "start_time": "2023-06-13T06:41:49.569Z"
   },
   {
    "duration": 159,
    "start_time": "2023-06-13T06:41:49.809Z"
   },
   {
    "duration": 179,
    "start_time": "2023-06-13T06:46:29.842Z"
   },
   {
    "duration": 111,
    "start_time": "2023-06-13T06:49:27.921Z"
   },
   {
    "duration": 9,
    "start_time": "2023-06-13T19:19:43.567Z"
   },
   {
    "duration": 8,
    "start_time": "2023-06-13T19:20:29.210Z"
   },
   {
    "duration": 2314,
    "start_time": "2023-06-13T19:22:28.202Z"
   },
   {
    "duration": 232,
    "start_time": "2023-06-13T19:22:30.522Z"
   },
   {
    "duration": 13,
    "start_time": "2023-06-13T19:22:30.756Z"
   },
   {
    "duration": 121,
    "start_time": "2023-06-13T19:22:30.771Z"
   },
   {
    "duration": 170,
    "start_time": "2023-06-13T19:22:30.895Z"
   },
   {
    "duration": 112,
    "start_time": "2023-06-13T19:22:31.067Z"
   },
   {
    "duration": 101,
    "start_time": "2023-06-13T19:22:31.181Z"
   },
   {
    "duration": 222,
    "start_time": "2023-06-13T19:22:31.283Z"
   },
   {
    "duration": 304,
    "start_time": "2023-06-13T19:22:31.506Z"
   },
   {
    "duration": 276,
    "start_time": "2023-06-13T19:22:31.813Z"
   },
   {
    "duration": 185,
    "start_time": "2023-06-13T19:22:32.101Z"
   },
   {
    "duration": 126,
    "start_time": "2023-06-13T19:22:32.291Z"
   },
   {
    "duration": 149,
    "start_time": "2023-06-13T19:22:32.423Z"
   },
   {
    "duration": 361,
    "start_time": "2023-06-13T19:22:32.582Z"
   },
   {
    "duration": 198,
    "start_time": "2023-06-13T19:22:32.949Z"
   },
   {
    "duration": 192,
    "start_time": "2023-06-13T19:22:33.188Z"
   },
   {
    "duration": 156,
    "start_time": "2023-06-13T19:22:33.387Z"
   },
   {
    "duration": 92,
    "start_time": "2023-06-13T19:22:33.549Z"
   },
   {
    "duration": 355,
    "start_time": "2023-06-13T19:22:33.647Z"
   },
   {
    "duration": 10,
    "start_time": "2023-06-13T19:22:34.009Z"
   },
   {
    "duration": 22715,
    "start_time": "2023-06-13T19:22:34.025Z"
   },
   {
    "duration": 3,
    "start_time": "2023-06-13T19:22:56.742Z"
   },
   {
    "duration": 360,
    "start_time": "2023-06-13T19:22:56.747Z"
   },
   {
    "duration": 218,
    "start_time": "2023-06-13T19:22:57.110Z"
   },
   {
    "duration": 312,
    "start_time": "2023-06-13T19:22:57.331Z"
   },
   {
    "duration": 8,
    "start_time": "2023-06-13T19:22:57.645Z"
   },
   {
    "duration": 407,
    "start_time": "2023-06-13T19:22:57.658Z"
   },
   {
    "duration": 24,
    "start_time": "2023-06-13T19:22:58.070Z"
   },
   {
    "duration": 101,
    "start_time": "2023-06-13T19:22:58.099Z"
   },
   {
    "duration": 363,
    "start_time": "2023-06-13T19:22:58.202Z"
   },
   {
    "duration": 11,
    "start_time": "2023-06-13T19:22:58.567Z"
   },
   {
    "duration": 122,
    "start_time": "2023-06-13T19:22:58.583Z"
   },
   {
    "duration": 46,
    "start_time": "2023-06-13T19:22:58.708Z"
   },
   {
    "duration": 139,
    "start_time": "2023-06-13T19:22:58.755Z"
   },
   {
    "duration": 221,
    "start_time": "2023-06-13T19:22:58.896Z"
   },
   {
    "duration": 650,
    "start_time": "2023-06-13T19:22:59.124Z"
   },
   {
    "duration": 30,
    "start_time": "2023-06-13T19:22:59.776Z"
   },
   {
    "duration": 316,
    "start_time": "2023-06-13T19:22:59.809Z"
   },
   {
    "duration": 28987,
    "start_time": "2023-06-13T19:23:00.127Z"
   },
   {
    "duration": 5,
    "start_time": "2023-06-13T19:23:29.116Z"
   },
   {
    "duration": 935,
    "start_time": "2023-06-13T19:23:29.125Z"
   },
   {
    "duration": 867,
    "start_time": "2023-06-13T19:23:30.066Z"
   },
   {
    "duration": 1634,
    "start_time": "2023-06-13T19:23:30.939Z"
   },
   {
    "duration": 12,
    "start_time": "2023-06-13T19:23:32.578Z"
   },
   {
    "duration": 161,
    "start_time": "2023-06-13T19:23:32.599Z"
   },
   {
    "duration": 141,
    "start_time": "2023-06-13T19:23:32.765Z"
   },
   {
    "duration": 67,
    "start_time": "2023-06-13T19:23:32.908Z"
   },
   {
    "duration": 100,
    "start_time": "2023-06-13T19:23:32.977Z"
   },
   {
    "duration": 400,
    "start_time": "2023-06-13T19:23:33.080Z"
   },
   {
    "duration": 127,
    "start_time": "2023-06-13T19:23:33.481Z"
   },
   {
    "duration": 12807,
    "start_time": "2023-06-13T19:23:33.613Z"
   },
   {
    "duration": 29,
    "start_time": "2023-06-13T19:23:46.429Z"
   },
   {
    "duration": 259,
    "start_time": "2023-06-13T19:23:46.467Z"
   },
   {
    "duration": 179,
    "start_time": "2023-06-13T19:23:46.728Z"
   },
   {
    "duration": 515,
    "start_time": "2023-06-13T19:23:46.911Z"
   },
   {
    "duration": 100,
    "start_time": "2023-06-13T19:23:47.430Z"
   },
   {
    "duration": 840,
    "start_time": "2023-06-13T19:23:47.548Z"
   },
   {
    "duration": 267,
    "start_time": "2023-06-13T19:23:48.395Z"
   },
   {
    "duration": 2330,
    "start_time": "2023-06-14T11:24:44.546Z"
   },
   {
    "duration": 284,
    "start_time": "2023-06-14T11:24:46.881Z"
   },
   {
    "duration": 6,
    "start_time": "2023-06-14T11:24:47.167Z"
   },
   {
    "duration": 20,
    "start_time": "2023-06-14T11:24:47.176Z"
   },
   {
    "duration": 68,
    "start_time": "2023-06-14T11:24:47.199Z"
   },
   {
    "duration": 21,
    "start_time": "2023-06-14T11:24:47.269Z"
   },
   {
    "duration": 29,
    "start_time": "2023-06-14T11:24:47.292Z"
   },
   {
    "duration": 32,
    "start_time": "2023-06-14T11:24:47.324Z"
   },
   {
    "duration": 6,
    "start_time": "2023-06-14T11:24:47.358Z"
   },
   {
    "duration": 18,
    "start_time": "2023-06-14T11:24:47.367Z"
   },
   {
    "duration": 66,
    "start_time": "2023-06-14T11:24:47.387Z"
   },
   {
    "duration": 18,
    "start_time": "2023-06-14T11:24:47.455Z"
   },
   {
    "duration": 8,
    "start_time": "2023-06-14T11:24:47.475Z"
   },
   {
    "duration": 17,
    "start_time": "2023-06-14T11:24:47.485Z"
   },
   {
    "duration": 41,
    "start_time": "2023-06-14T11:24:47.514Z"
   },
   {
    "duration": 60,
    "start_time": "2023-06-14T11:24:47.557Z"
   },
   {
    "duration": 29,
    "start_time": "2023-06-14T11:24:47.620Z"
   },
   {
    "duration": 69,
    "start_time": "2023-06-14T11:24:47.653Z"
   },
   {
    "duration": 258,
    "start_time": "2023-06-14T11:24:47.724Z"
   },
   {
    "duration": 6,
    "start_time": "2023-06-14T11:24:47.984Z"
   },
   {
    "duration": 2302,
    "start_time": "2023-06-14T11:25:14.710Z"
   },
   {
    "duration": 93,
    "start_time": "2023-06-14T11:25:17.019Z"
   },
   {
    "duration": 18,
    "start_time": "2023-06-14T11:25:17.118Z"
   },
   {
    "duration": 33,
    "start_time": "2023-06-14T11:25:17.140Z"
   },
   {
    "duration": 91,
    "start_time": "2023-06-14T11:25:17.176Z"
   },
   {
    "duration": 16,
    "start_time": "2023-06-14T11:25:17.271Z"
   },
   {
    "duration": 38,
    "start_time": "2023-06-14T11:25:17.289Z"
   },
   {
    "duration": 37,
    "start_time": "2023-06-14T11:25:17.331Z"
   },
   {
    "duration": 4,
    "start_time": "2023-06-14T11:25:17.370Z"
   },
   {
    "duration": 27,
    "start_time": "2023-06-14T11:25:17.387Z"
   },
   {
    "duration": 24,
    "start_time": "2023-06-14T11:25:22.051Z"
   },
   {
    "duration": 7,
    "start_time": "2023-06-14T11:25:32.488Z"
   },
   {
    "duration": 13,
    "start_time": "2023-06-14T11:26:19.488Z"
   },
   {
    "duration": 7,
    "start_time": "2023-06-14T11:26:20.575Z"
   },
   {
    "duration": 1497,
    "start_time": "2023-06-14T13:51:46.590Z"
   },
   {
    "duration": 108,
    "start_time": "2023-06-14T13:51:48.089Z"
   },
   {
    "duration": 5,
    "start_time": "2023-06-14T13:51:48.198Z"
   },
   {
    "duration": 35,
    "start_time": "2023-06-14T13:51:48.204Z"
   },
   {
    "duration": 40,
    "start_time": "2023-06-14T13:51:48.241Z"
   },
   {
    "duration": 12,
    "start_time": "2023-06-14T13:51:48.283Z"
   },
   {
    "duration": 16,
    "start_time": "2023-06-14T13:51:48.297Z"
   },
   {
    "duration": 45,
    "start_time": "2023-06-14T13:51:48.315Z"
   },
   {
    "duration": 10,
    "start_time": "2023-06-14T13:51:48.362Z"
   },
   {
    "duration": 32,
    "start_time": "2023-06-14T13:51:48.373Z"
   },
   {
    "duration": 49,
    "start_time": "2023-06-14T13:51:48.407Z"
   },
   {
    "duration": 10,
    "start_time": "2023-06-14T13:51:48.458Z"
   },
   {
    "duration": 15,
    "start_time": "2023-06-14T13:51:48.470Z"
   },
   {
    "duration": 21,
    "start_time": "2023-06-14T13:51:48.488Z"
   },
   {
    "duration": 44,
    "start_time": "2023-06-14T13:51:48.510Z"
   },
   {
    "duration": 14,
    "start_time": "2023-06-14T13:51:48.573Z"
   },
   {
    "duration": 35,
    "start_time": "2023-06-14T13:51:48.673Z"
   },
   {
    "duration": 12,
    "start_time": "2023-06-14T13:51:48.710Z"
   },
   {
    "duration": 225,
    "start_time": "2023-06-14T13:51:48.724Z"
   },
   {
    "duration": 4,
    "start_time": "2023-06-14T13:51:48.950Z"
   },
   {
    "duration": 13849,
    "start_time": "2023-06-14T13:51:48.971Z"
   },
   {
    "duration": 4,
    "start_time": "2023-06-14T13:52:02.821Z"
   },
   {
    "duration": 172,
    "start_time": "2023-06-14T13:52:02.827Z"
   },
   {
    "duration": 139,
    "start_time": "2023-06-14T13:52:03.000Z"
   },
   {
    "duration": 223,
    "start_time": "2023-06-14T13:52:03.141Z"
   },
   {
    "duration": 5,
    "start_time": "2023-06-14T13:52:03.366Z"
   },
   {
    "duration": 199,
    "start_time": "2023-06-14T13:52:03.373Z"
   },
   {
    "duration": 15,
    "start_time": "2023-06-14T13:52:03.574Z"
   },
   {
    "duration": 14,
    "start_time": "2023-06-14T13:52:03.591Z"
   },
   {
    "duration": 150,
    "start_time": "2023-06-14T13:52:03.607Z"
   },
   {
    "duration": 3,
    "start_time": "2023-06-14T13:52:03.759Z"
   },
   {
    "duration": 34,
    "start_time": "2023-06-14T13:52:03.772Z"
   },
   {
    "duration": 32,
    "start_time": "2023-06-14T13:52:03.807Z"
   },
   {
    "duration": 20,
    "start_time": "2023-06-14T13:52:03.841Z"
   },
   {
    "duration": 30,
    "start_time": "2023-06-14T13:52:03.863Z"
   },
   {
    "duration": 240,
    "start_time": "2023-06-14T13:52:03.894Z"
   },
   {
    "duration": 15,
    "start_time": "2023-06-14T13:52:04.136Z"
   },
   {
    "duration": 112,
    "start_time": "2023-06-14T13:52:04.153Z"
   },
   {
    "duration": 19386,
    "start_time": "2023-06-14T13:52:04.273Z"
   },
   {
    "duration": 4,
    "start_time": "2023-06-14T13:52:23.660Z"
   },
   {
    "duration": 594,
    "start_time": "2023-06-14T13:52:23.671Z"
   },
   {
    "duration": 566,
    "start_time": "2023-06-14T13:52:24.267Z"
   },
   {
    "duration": 1225,
    "start_time": "2023-06-14T13:52:24.835Z"
   },
   {
    "duration": 10,
    "start_time": "2023-06-14T13:52:26.062Z"
   },
   {
    "duration": 10,
    "start_time": "2023-06-14T13:52:26.073Z"
   },
   {
    "duration": 32,
    "start_time": "2023-06-14T13:52:26.085Z"
   },
   {
    "duration": 15,
    "start_time": "2023-06-14T13:52:26.119Z"
   },
   {
    "duration": 30,
    "start_time": "2023-06-14T13:52:26.136Z"
   },
   {
    "duration": 184,
    "start_time": "2023-06-14T13:52:26.167Z"
   },
   {
    "duration": 100,
    "start_time": "2023-06-14T13:52:26.352Z"
   },
   {
    "duration": 9234,
    "start_time": "2023-06-14T13:52:26.454Z"
   },
   {
    "duration": 5,
    "start_time": "2023-06-14T13:52:35.690Z"
   },
   {
    "duration": 159,
    "start_time": "2023-06-14T13:52:35.697Z"
   },
   {
    "duration": 160,
    "start_time": "2023-06-14T13:52:35.857Z"
   },
   {
    "duration": 406,
    "start_time": "2023-06-14T13:52:36.018Z"
   },
   {
    "duration": 48,
    "start_time": "2023-06-14T13:52:36.426Z"
   },
   {
    "duration": 708,
    "start_time": "2023-06-14T13:52:36.478Z"
   },
   {
    "duration": 198,
    "start_time": "2023-06-14T13:52:37.188Z"
   },
   {
    "duration": 9,
    "start_time": "2023-06-14T13:54:59.753Z"
   },
   {
    "duration": 1911,
    "start_time": "2023-06-14T13:55:06.605Z"
   },
   {
    "duration": 53,
    "start_time": "2023-06-14T13:55:08.518Z"
   },
   {
    "duration": 5,
    "start_time": "2023-06-14T13:55:08.572Z"
   },
   {
    "duration": 29,
    "start_time": "2023-06-14T13:55:08.579Z"
   },
   {
    "duration": 44,
    "start_time": "2023-06-14T13:55:08.609Z"
   },
   {
    "duration": 12,
    "start_time": "2023-06-14T13:55:08.655Z"
   },
   {
    "duration": 25,
    "start_time": "2023-06-14T13:55:08.671Z"
   },
   {
    "duration": 23,
    "start_time": "2023-06-14T13:55:08.697Z"
   },
   {
    "duration": 24,
    "start_time": "2023-06-14T13:55:08.722Z"
   },
   {
    "duration": 22,
    "start_time": "2023-06-14T13:55:08.749Z"
   },
   {
    "duration": 41,
    "start_time": "2023-06-14T13:55:08.772Z"
   },
   {
    "duration": 27,
    "start_time": "2023-06-14T13:55:08.815Z"
   },
   {
    "duration": 21,
    "start_time": "2023-06-14T13:55:08.844Z"
   },
   {
    "duration": 86,
    "start_time": "2023-06-14T13:55:08.866Z"
   },
   {
    "duration": 28,
    "start_time": "2023-06-14T13:55:08.953Z"
   },
   {
    "duration": 87,
    "start_time": "2023-06-14T13:55:08.985Z"
   },
   {
    "duration": 112,
    "start_time": "2023-06-14T13:55:09.074Z"
   },
   {
    "duration": 17,
    "start_time": "2023-06-14T13:55:09.188Z"
   },
   {
    "duration": 194,
    "start_time": "2023-06-14T13:55:09.207Z"
   },
   {
    "duration": 3,
    "start_time": "2023-06-14T13:55:09.403Z"
   },
   {
    "duration": 12992,
    "start_time": "2023-06-14T13:55:09.408Z"
   },
   {
    "duration": 4,
    "start_time": "2023-06-14T13:55:22.401Z"
   },
   {
    "duration": 204,
    "start_time": "2023-06-14T13:55:22.406Z"
   },
   {
    "duration": 184,
    "start_time": "2023-06-14T13:55:22.612Z"
   },
   {
    "duration": 240,
    "start_time": "2023-06-14T13:55:22.799Z"
   },
   {
    "duration": 3,
    "start_time": "2023-06-14T13:55:23.041Z"
   },
   {
    "duration": 201,
    "start_time": "2023-06-14T13:55:23.045Z"
   },
   {
    "duration": 23,
    "start_time": "2023-06-14T13:55:23.249Z"
   },
   {
    "duration": 14,
    "start_time": "2023-06-14T13:55:23.273Z"
   },
   {
    "duration": 81,
    "start_time": "2023-06-14T13:55:23.289Z"
   },
   {
    "duration": 4,
    "start_time": "2023-06-14T13:55:23.372Z"
   },
   {
    "duration": 21,
    "start_time": "2023-06-14T13:55:23.377Z"
   },
   {
    "duration": 37,
    "start_time": "2023-06-14T13:55:23.400Z"
   },
   {
    "duration": 24,
    "start_time": "2023-06-14T13:55:23.438Z"
   },
   {
    "duration": 45,
    "start_time": "2023-06-14T13:55:23.463Z"
   },
   {
    "duration": 224,
    "start_time": "2023-06-14T13:55:23.510Z"
   },
   {
    "duration": 13,
    "start_time": "2023-06-14T13:55:23.735Z"
   },
   {
    "duration": 85,
    "start_time": "2023-06-14T13:55:23.750Z"
   },
   {
    "duration": 16542,
    "start_time": "2023-06-14T13:55:23.838Z"
   },
   {
    "duration": 4,
    "start_time": "2023-06-14T13:55:40.382Z"
   },
   {
    "duration": 587,
    "start_time": "2023-06-14T13:55:40.388Z"
   },
   {
    "duration": 545,
    "start_time": "2023-06-14T13:55:40.977Z"
   },
   {
    "duration": 1155,
    "start_time": "2023-06-14T13:55:41.524Z"
   },
   {
    "duration": 5,
    "start_time": "2023-06-14T13:55:42.681Z"
   },
   {
    "duration": 26,
    "start_time": "2023-06-14T13:55:42.687Z"
   },
   {
    "duration": 33,
    "start_time": "2023-06-14T13:55:42.715Z"
   },
   {
    "duration": 5,
    "start_time": "2023-06-14T13:55:42.750Z"
   },
   {
    "duration": 29,
    "start_time": "2023-06-14T13:55:42.757Z"
   },
   {
    "duration": 152,
    "start_time": "2023-06-14T13:55:42.788Z"
   },
   {
    "duration": 70,
    "start_time": "2023-06-14T13:55:42.942Z"
   },
   {
    "duration": 8102,
    "start_time": "2023-06-14T13:55:43.014Z"
   },
   {
    "duration": 3,
    "start_time": "2023-06-14T13:55:51.118Z"
   },
   {
    "duration": 168,
    "start_time": "2023-06-14T13:55:51.123Z"
   },
   {
    "duration": 157,
    "start_time": "2023-06-14T13:55:51.293Z"
   },
   {
    "duration": 359,
    "start_time": "2023-06-14T13:55:51.452Z"
   },
   {
    "duration": 60,
    "start_time": "2023-06-14T13:55:51.813Z"
   },
   {
    "duration": 715,
    "start_time": "2023-06-14T13:55:51.877Z"
   },
   {
    "duration": 186,
    "start_time": "2023-06-14T13:55:52.595Z"
   },
   {
    "duration": 96,
    "start_time": "2023-06-14T13:56:49.782Z"
   },
   {
    "duration": 164,
    "start_time": "2023-06-14T13:57:28.049Z"
   },
   {
    "duration": 147,
    "start_time": "2023-06-14T13:58:43.960Z"
   },
   {
    "duration": 183,
    "start_time": "2023-06-14T13:58:50.380Z"
   },
   {
    "duration": 348,
    "start_time": "2023-06-14T13:58:55.386Z"
   },
   {
    "duration": 174,
    "start_time": "2023-06-14T13:58:59.044Z"
   },
   {
    "duration": 30,
    "start_time": "2023-06-14T13:59:41.028Z"
   },
   {
    "duration": 28,
    "start_time": "2023-06-14T13:59:42.396Z"
   },
   {
    "duration": 124,
    "start_time": "2023-06-14T13:59:46.902Z"
   },
   {
    "duration": 24,
    "start_time": "2023-06-14T13:59:56.888Z"
   },
   {
    "duration": 164,
    "start_time": "2023-06-14T14:00:35.237Z"
   },
   {
    "duration": 150,
    "start_time": "2023-06-14T14:00:43.211Z"
   },
   {
    "duration": 8667,
    "start_time": "2023-06-14T14:02:44.217Z"
   },
   {
    "duration": 4,
    "start_time": "2023-06-14T14:02:54.643Z"
   },
   {
    "duration": 1669,
    "start_time": "2023-06-14T17:14:36.956Z"
   },
   {
    "duration": 373,
    "start_time": "2023-06-14T17:14:38.627Z"
   },
   {
    "duration": 9,
    "start_time": "2023-06-14T17:14:39.002Z"
   },
   {
    "duration": 12,
    "start_time": "2023-06-14T17:14:39.017Z"
   },
   {
    "duration": 34,
    "start_time": "2023-06-14T17:14:39.030Z"
   },
   {
    "duration": 9,
    "start_time": "2023-06-14T17:14:39.066Z"
   },
   {
    "duration": 19,
    "start_time": "2023-06-14T17:14:39.077Z"
   },
   {
    "duration": 22,
    "start_time": "2023-06-14T17:14:39.097Z"
   },
   {
    "duration": 2,
    "start_time": "2023-06-14T17:14:39.121Z"
   },
   {
    "duration": 8,
    "start_time": "2023-06-14T17:14:48.347Z"
   },
   {
    "duration": 25,
    "start_time": "2023-06-14T17:15:08.522Z"
   },
   {
    "duration": 5,
    "start_time": "2023-06-14T17:15:09.485Z"
   },
   {
    "duration": 9,
    "start_time": "2023-06-14T17:15:10.820Z"
   },
   {
    "duration": 23,
    "start_time": "2023-06-14T17:15:17.055Z"
   },
   {
    "duration": 28,
    "start_time": "2023-06-14T17:15:22.794Z"
   },
   {
    "duration": 6,
    "start_time": "2023-06-14T17:15:23.320Z"
   },
   {
    "duration": 6,
    "start_time": "2023-06-14T17:15:23.726Z"
   },
   {
    "duration": 4,
    "start_time": "2023-06-14T17:18:13.705Z"
   },
   {
    "duration": 9,
    "start_time": "2023-06-14T17:18:15.428Z"
   },
   {
    "duration": 7,
    "start_time": "2023-06-14T17:18:16.108Z"
   },
   {
    "duration": 101,
    "start_time": "2023-06-14T17:18:40.606Z"
   },
   {
    "duration": 3,
    "start_time": "2023-06-14T17:19:02.402Z"
   },
   {
    "duration": 15712,
    "start_time": "2023-06-14T17:19:07.594Z"
   },
   {
    "duration": 3,
    "start_time": "2023-06-14T17:19:34.738Z"
   },
   {
    "duration": 188,
    "start_time": "2023-06-14T17:19:42.440Z"
   },
   {
    "duration": 146,
    "start_time": "2023-06-14T17:19:47.485Z"
   },
   {
    "duration": 115000,
    "start_time": "2023-06-14T17:20:37.407Z"
   },
   {
    "duration": 72756,
    "start_time": "2023-06-14T17:23:13.386Z"
   },
   {
    "duration": 4,
    "start_time": "2023-06-14T17:24:51.949Z"
   },
   {
    "duration": 1151,
    "start_time": "2023-06-14T17:25:06.224Z"
   },
   {
    "duration": 1646,
    "start_time": "2023-06-14T17:26:19.486Z"
   },
   {
    "duration": 1689,
    "start_time": "2023-06-14T17:26:42.993Z"
   },
   {
    "duration": 1167,
    "start_time": "2023-06-14T17:26:58.809Z"
   },
   {
    "duration": 11,
    "start_time": "2023-06-14T17:28:28.051Z"
   },
   {
    "duration": 19,
    "start_time": "2023-06-14T17:28:53.980Z"
   },
   {
    "duration": 23,
    "start_time": "2023-06-14T17:29:07.705Z"
   },
   {
    "duration": 147,
    "start_time": "2023-06-14T17:29:21.019Z"
   },
   {
    "duration": 4,
    "start_time": "2023-06-14T17:29:47.986Z"
   },
   {
    "duration": 8,
    "start_time": "2023-06-14T17:29:50.047Z"
   },
   {
    "duration": 7,
    "start_time": "2023-06-14T17:29:52.415Z"
   },
   {
    "duration": 168,
    "start_time": "2023-06-14T17:29:58.294Z"
   },
   {
    "duration": 10,
    "start_time": "2023-06-14T17:30:36.454Z"
   },
   {
    "duration": 3,
    "start_time": "2023-06-14T17:30:57.320Z"
   },
   {
    "duration": 56,
    "start_time": "2023-06-14T17:30:57.325Z"
   },
   {
    "duration": 3,
    "start_time": "2023-06-14T17:30:57.383Z"
   },
   {
    "duration": 17,
    "start_time": "2023-06-14T17:30:57.387Z"
   },
   {
    "duration": 33,
    "start_time": "2023-06-14T17:30:57.406Z"
   },
   {
    "duration": 11,
    "start_time": "2023-06-14T17:30:57.440Z"
   },
   {
    "duration": 8,
    "start_time": "2023-06-14T17:30:57.452Z"
   },
   {
    "duration": 15,
    "start_time": "2023-06-14T17:30:57.462Z"
   },
   {
    "duration": 12,
    "start_time": "2023-06-14T17:30:57.478Z"
   },
   {
    "duration": 21,
    "start_time": "2023-06-14T17:30:57.491Z"
   },
   {
    "duration": 30,
    "start_time": "2023-06-14T17:30:57.513Z"
   },
   {
    "duration": 11,
    "start_time": "2023-06-14T17:30:57.544Z"
   },
   {
    "duration": 4,
    "start_time": "2023-06-14T17:31:12.355Z"
   },
   {
    "duration": 6,
    "start_time": "2023-06-14T17:31:12.844Z"
   },
   {
    "duration": 18,
    "start_time": "2023-06-14T17:31:22.725Z"
   },
   {
    "duration": 6,
    "start_time": "2023-06-14T17:31:27.815Z"
   },
   {
    "duration": 4,
    "start_time": "2023-06-14T17:31:34.113Z"
   },
   {
    "duration": 9,
    "start_time": "2023-06-14T17:31:42.030Z"
   },
   {
    "duration": 143,
    "start_time": "2023-06-14T17:31:49.332Z"
   },
   {
    "duration": 15758,
    "start_time": "2023-06-14T17:33:14.789Z"
   },
   {
    "duration": 1607,
    "start_time": "2023-06-14T20:30:55.391Z"
   },
   {
    "duration": 102,
    "start_time": "2023-06-14T20:30:57.000Z"
   },
   {
    "duration": 4,
    "start_time": "2023-06-14T20:30:59.095Z"
   },
   {
    "duration": 14,
    "start_time": "2023-06-14T20:31:08.979Z"
   },
   {
    "duration": 111,
    "start_time": "2023-06-14T20:31:47.603Z"
   },
   {
    "duration": 79,
    "start_time": "2023-06-14T20:31:54.510Z"
   },
   {
    "duration": 79,
    "start_time": "2023-06-14T20:31:57.704Z"
   },
   {
    "duration": 28,
    "start_time": "2023-06-14T20:32:00.999Z"
   },
   {
    "duration": 59,
    "start_time": "2023-06-14T20:32:14.443Z"
   },
   {
    "duration": 17,
    "start_time": "2023-06-14T20:32:18.514Z"
   },
   {
    "duration": 28,
    "start_time": "2023-06-14T20:32:21.135Z"
   },
   {
    "duration": 38,
    "start_time": "2023-06-14T20:32:31.802Z"
   },
   {
    "duration": 13,
    "start_time": "2023-06-14T20:32:35.603Z"
   },
   {
    "duration": 55,
    "start_time": "2023-06-14T20:32:41.333Z"
   },
   {
    "duration": 25,
    "start_time": "2023-06-14T20:35:19.336Z"
   },
   {
    "duration": 26,
    "start_time": "2023-06-14T20:35:40.919Z"
   },
   {
    "duration": 22,
    "start_time": "2023-06-14T20:36:04.623Z"
   },
   {
    "duration": 31,
    "start_time": "2023-06-14T20:36:15.387Z"
   },
   {
    "duration": 18,
    "start_time": "2023-06-14T20:36:31.700Z"
   },
   {
    "duration": 7,
    "start_time": "2023-06-14T20:36:51.692Z"
   },
   {
    "duration": 6,
    "start_time": "2023-06-14T20:37:04.307Z"
   },
   {
    "duration": 7,
    "start_time": "2023-06-14T20:37:12.342Z"
   },
   {
    "duration": 7,
    "start_time": "2023-06-14T20:37:18.091Z"
   },
   {
    "duration": 7,
    "start_time": "2023-06-14T20:37:23.002Z"
   },
   {
    "duration": 6,
    "start_time": "2023-06-14T20:37:26.583Z"
   },
   {
    "duration": 9,
    "start_time": "2023-06-14T20:37:30.139Z"
   },
   {
    "duration": 15,
    "start_time": "2023-06-14T20:38:01.134Z"
   },
   {
    "duration": 7,
    "start_time": "2023-06-14T20:38:05.541Z"
   },
   {
    "duration": 6,
    "start_time": "2023-06-14T20:38:24.599Z"
   },
   {
    "duration": 6,
    "start_time": "2023-06-14T20:38:30.991Z"
   },
   {
    "duration": 90,
    "start_time": "2023-06-14T20:38:44.250Z"
   },
   {
    "duration": 4,
    "start_time": "2023-06-14T20:38:52.585Z"
   },
   {
    "duration": 6,
    "start_time": "2023-06-14T20:38:53.807Z"
   },
   {
    "duration": 4,
    "start_time": "2023-06-14T21:19:30.981Z"
   },
   {
    "duration": 13,
    "start_time": "2023-06-14T21:22:01.090Z"
   },
   {
    "duration": 3,
    "start_time": "2023-06-14T21:22:46.318Z"
   },
   {
    "duration": 8,
    "start_time": "2023-06-14T21:22:56.412Z"
   },
   {
    "duration": 28,
    "start_time": "2023-06-14T21:23:50.844Z"
   },
   {
    "duration": 18,
    "start_time": "2023-06-14T21:24:53.479Z"
   },
   {
    "duration": 21,
    "start_time": "2023-06-14T21:25:22.617Z"
   },
   {
    "duration": 132,
    "start_time": "2023-06-14T21:26:04.891Z"
   },
   {
    "duration": 83,
    "start_time": "2023-06-14T21:26:07.392Z"
   },
   {
    "duration": 33,
    "start_time": "2023-06-14T21:26:11.545Z"
   },
   {
    "duration": 10,
    "start_time": "2023-06-14T21:28:01.676Z"
   },
   {
    "duration": 11,
    "start_time": "2023-06-14T21:28:06.583Z"
   },
   {
    "duration": 7,
    "start_time": "2023-06-14T21:28:15.579Z"
   },
   {
    "duration": 11,
    "start_time": "2023-06-14T21:28:17.266Z"
   },
   {
    "duration": 5,
    "start_time": "2023-06-14T21:29:14.624Z"
   },
   {
    "duration": 14,
    "start_time": "2023-06-14T21:29:21.771Z"
   },
   {
    "duration": 49,
    "start_time": "2023-06-14T21:29:33.763Z"
   },
   {
    "duration": 16,
    "start_time": "2023-06-14T21:29:39.120Z"
   },
   {
    "duration": 4,
    "start_time": "2023-06-14T21:29:49.146Z"
   },
   {
    "duration": 7,
    "start_time": "2023-06-14T21:29:50.339Z"
   },
   {
    "duration": 7,
    "start_time": "2023-06-14T21:29:52.564Z"
   },
   {
    "duration": 11,
    "start_time": "2023-06-14T21:29:54.263Z"
   },
   {
    "duration": 13,
    "start_time": "2023-06-14T21:29:56.074Z"
   },
   {
    "duration": 37,
    "start_time": "2023-06-14T21:30:10.226Z"
   },
   {
    "duration": 13,
    "start_time": "2023-06-14T21:30:42.563Z"
   },
   {
    "duration": 19,
    "start_time": "2023-06-14T21:30:48.446Z"
   },
   {
    "duration": 8,
    "start_time": "2023-06-14T21:30:53.685Z"
   },
   {
    "duration": 19,
    "start_time": "2023-06-14T21:30:55.387Z"
   },
   {
    "duration": 17,
    "start_time": "2023-06-14T21:31:01.128Z"
   },
   {
    "duration": 13,
    "start_time": "2023-06-14T21:31:44.727Z"
   },
   {
    "duration": 15,
    "start_time": "2023-06-14T21:31:50.769Z"
   },
   {
    "duration": 64,
    "start_time": "2023-06-14T21:32:35.309Z"
   },
   {
    "duration": 14,
    "start_time": "2023-06-14T21:32:39.392Z"
   },
   {
    "duration": 4,
    "start_time": "2023-06-14T21:32:41.744Z"
   },
   {
    "duration": 7,
    "start_time": "2023-06-14T21:32:43.111Z"
   },
   {
    "duration": 9,
    "start_time": "2023-06-14T21:32:45.071Z"
   },
   {
    "duration": 21,
    "start_time": "2023-06-14T21:32:48.213Z"
   },
   {
    "duration": 12,
    "start_time": "2023-06-14T21:32:51.092Z"
   },
   {
    "duration": 10,
    "start_time": "2023-06-14T21:33:11.877Z"
   },
   {
    "duration": 32,
    "start_time": "2023-06-14T21:33:13.344Z"
   },
   {
    "duration": 107,
    "start_time": "2023-06-14T21:33:16.770Z"
   },
   {
    "duration": 17,
    "start_time": "2023-06-14T21:33:20.820Z"
   },
   {
    "duration": 4,
    "start_time": "2023-06-14T21:33:44.806Z"
   },
   {
    "duration": 3,
    "start_time": "2023-06-14T21:33:53.463Z"
   },
   {
    "duration": 1453,
    "start_time": "2023-06-14T21:34:38.848Z"
   },
   {
    "duration": 60,
    "start_time": "2023-06-14T21:34:40.303Z"
   },
   {
    "duration": 6,
    "start_time": "2023-06-14T21:34:40.368Z"
   },
   {
    "duration": 16,
    "start_time": "2023-06-14T21:34:40.376Z"
   },
   {
    "duration": 80,
    "start_time": "2023-06-14T21:34:40.394Z"
   },
   {
    "duration": 16,
    "start_time": "2023-06-14T21:34:40.475Z"
   },
   {
    "duration": 15,
    "start_time": "2023-06-14T21:34:40.493Z"
   },
   {
    "duration": 13,
    "start_time": "2023-06-14T21:34:40.509Z"
   },
   {
    "duration": 9,
    "start_time": "2023-06-14T21:34:40.525Z"
   },
   {
    "duration": 35,
    "start_time": "2023-06-14T21:34:40.536Z"
   },
   {
    "duration": 13,
    "start_time": "2023-06-14T21:34:40.573Z"
   },
   {
    "duration": 13,
    "start_time": "2023-06-14T21:34:40.587Z"
   },
   {
    "duration": 17,
    "start_time": "2023-06-14T21:34:40.601Z"
   },
   {
    "duration": 5,
    "start_time": "2023-06-14T21:34:40.620Z"
   },
   {
    "duration": 37,
    "start_time": "2023-06-14T21:34:40.627Z"
   },
   {
    "duration": 31,
    "start_time": "2023-06-14T21:34:40.666Z"
   },
   {
    "duration": 16,
    "start_time": "2023-06-14T21:34:40.698Z"
   },
   {
    "duration": 8,
    "start_time": "2023-06-14T21:34:40.716Z"
   },
   {
    "duration": 31,
    "start_time": "2023-06-14T21:34:40.726Z"
   },
   {
    "duration": 32,
    "start_time": "2023-06-14T21:34:40.758Z"
   },
   {
    "duration": 72,
    "start_time": "2023-06-14T21:34:40.791Z"
   },
   {
    "duration": 100,
    "start_time": "2023-06-14T21:34:40.870Z"
   },
   {
    "duration": 5,
    "start_time": "2023-06-14T21:34:40.972Z"
   },
   {
    "duration": 222,
    "start_time": "2023-06-14T21:34:40.978Z"
   },
   {
    "duration": 4,
    "start_time": "2023-06-14T21:34:41.202Z"
   },
   {
    "duration": 14925,
    "start_time": "2023-06-14T21:34:41.207Z"
   },
   {
    "duration": 4,
    "start_time": "2023-06-14T21:34:56.136Z"
   },
   {
    "duration": 201,
    "start_time": "2023-06-14T21:34:56.141Z"
   },
   {
    "duration": 202,
    "start_time": "2023-06-14T21:34:56.344Z"
   },
   {
    "duration": 271,
    "start_time": "2023-06-14T21:34:56.548Z"
   },
   {
    "duration": 4,
    "start_time": "2023-06-14T21:34:56.821Z"
   },
   {
    "duration": 273,
    "start_time": "2023-06-14T21:34:56.827Z"
   },
   {
    "duration": 21,
    "start_time": "2023-06-14T21:34:57.102Z"
   },
   {
    "duration": 6,
    "start_time": "2023-06-14T21:34:57.125Z"
   },
   {
    "duration": 89,
    "start_time": "2023-06-14T21:34:57.133Z"
   },
   {
    "duration": 3,
    "start_time": "2023-06-14T21:34:57.224Z"
   },
   {
    "duration": 16,
    "start_time": "2023-06-14T21:34:57.229Z"
   },
   {
    "duration": 29,
    "start_time": "2023-06-14T21:34:57.247Z"
   },
   {
    "duration": 5,
    "start_time": "2023-06-14T21:34:57.278Z"
   },
   {
    "duration": 55,
    "start_time": "2023-06-14T21:34:57.285Z"
   },
   {
    "duration": 334,
    "start_time": "2023-06-14T21:34:57.342Z"
   },
   {
    "duration": 21,
    "start_time": "2023-06-14T21:34:57.678Z"
   },
   {
    "duration": 102,
    "start_time": "2023-06-14T21:34:57.701Z"
   },
   {
    "duration": 23538,
    "start_time": "2023-06-14T21:34:57.805Z"
   },
   {
    "duration": 20,
    "start_time": "2023-06-14T21:35:21.345Z"
   },
   {
    "duration": 177,
    "start_time": "2023-06-14T21:35:21.367Z"
   },
   {
    "duration": 174,
    "start_time": "2023-06-14T21:35:21.546Z"
   },
   {
    "duration": 394,
    "start_time": "2023-06-14T21:35:21.722Z"
   },
   {
    "duration": 4,
    "start_time": "2023-06-14T21:35:22.118Z"
   },
   {
    "duration": 8,
    "start_time": "2023-06-14T21:35:22.124Z"
   },
   {
    "duration": 28,
    "start_time": "2023-06-14T21:35:22.134Z"
   },
   {
    "duration": 7,
    "start_time": "2023-06-14T21:35:22.164Z"
   },
   {
    "duration": 27,
    "start_time": "2023-06-14T21:35:22.172Z"
   },
   {
    "duration": 216,
    "start_time": "2023-06-14T21:35:22.201Z"
   },
   {
    "duration": 83,
    "start_time": "2023-06-14T21:35:22.418Z"
   },
   {
    "duration": 9323,
    "start_time": "2023-06-14T21:35:22.503Z"
   },
   {
    "duration": 4,
    "start_time": "2023-06-14T21:35:31.828Z"
   },
   {
    "duration": 60,
    "start_time": "2023-06-14T21:35:31.833Z"
   },
   {
    "duration": 32,
    "start_time": "2023-06-14T21:35:31.895Z"
   },
   {
    "duration": 118,
    "start_time": "2023-06-14T21:35:31.929Z"
   },
   {
    "duration": 31,
    "start_time": "2023-06-14T21:35:32.056Z"
   },
   {
    "duration": 287,
    "start_time": "2023-06-14T21:35:32.157Z"
   },
   {
    "duration": 171,
    "start_time": "2023-06-14T21:35:32.446Z"
   },
   {
    "duration": 23,
    "start_time": "2023-06-14T21:36:12.917Z"
   },
   {
    "duration": 618,
    "start_time": "2023-06-14T21:37:13.314Z"
   },
   {
    "duration": 727,
    "start_time": "2023-06-14T21:37:20.035Z"
   },
   {
    "duration": 78,
    "start_time": "2023-06-14T21:37:45.936Z"
   },
   {
    "duration": 178,
    "start_time": "2023-06-14T21:37:56.099Z"
   },
   {
    "duration": 182,
    "start_time": "2023-06-14T21:38:00.735Z"
   },
   {
    "duration": 668,
    "start_time": "2023-06-14T21:38:40.778Z"
   },
   {
    "duration": 132,
    "start_time": "2023-06-14T21:39:15.853Z"
   },
   {
    "duration": 1247,
    "start_time": "2023-06-14T21:40:12.807Z"
   },
   {
    "duration": 444,
    "start_time": "2023-06-14T21:40:40.844Z"
   },
   {
    "duration": 434,
    "start_time": "2023-06-14T21:40:50.728Z"
   },
   {
    "duration": 1477,
    "start_time": "2023-06-14T21:40:57.996Z"
   },
   {
    "duration": 53,
    "start_time": "2023-06-14T21:40:59.475Z"
   },
   {
    "duration": 4,
    "start_time": "2023-06-14T21:40:59.530Z"
   },
   {
    "duration": 38,
    "start_time": "2023-06-14T21:40:59.536Z"
   },
   {
    "duration": 49,
    "start_time": "2023-06-14T21:40:59.575Z"
   },
   {
    "duration": 13,
    "start_time": "2023-06-14T21:40:59.626Z"
   },
   {
    "duration": 23,
    "start_time": "2023-06-14T21:40:59.640Z"
   },
   {
    "duration": 21,
    "start_time": "2023-06-14T21:40:59.665Z"
   },
   {
    "duration": 11,
    "start_time": "2023-06-14T21:40:59.688Z"
   },
   {
    "duration": 25,
    "start_time": "2023-06-14T21:40:59.701Z"
   },
   {
    "duration": 11,
    "start_time": "2023-06-14T21:40:59.728Z"
   },
   {
    "duration": 22,
    "start_time": "2023-06-14T21:40:59.741Z"
   },
   {
    "duration": 23,
    "start_time": "2023-06-14T21:40:59.766Z"
   },
   {
    "duration": 8,
    "start_time": "2023-06-14T21:40:59.791Z"
   },
   {
    "duration": 20,
    "start_time": "2023-06-14T21:40:59.801Z"
   },
   {
    "duration": 25,
    "start_time": "2023-06-14T21:40:59.823Z"
   },
   {
    "duration": 17,
    "start_time": "2023-06-14T21:40:59.850Z"
   },
   {
    "duration": 10,
    "start_time": "2023-06-14T21:40:59.868Z"
   },
   {
    "duration": 27,
    "start_time": "2023-06-14T21:40:59.880Z"
   },
   {
    "duration": 50,
    "start_time": "2023-06-14T21:40:59.909Z"
   },
   {
    "duration": 10,
    "start_time": "2023-06-14T21:40:59.961Z"
   },
   {
    "duration": 119,
    "start_time": "2023-06-14T21:40:59.972Z"
   },
   {
    "duration": 18,
    "start_time": "2023-06-14T21:41:00.093Z"
   },
   {
    "duration": 244,
    "start_time": "2023-06-14T21:41:00.113Z"
   },
   {
    "duration": 6,
    "start_time": "2023-06-14T21:41:00.359Z"
   },
   {
    "duration": 14578,
    "start_time": "2023-06-14T21:41:00.368Z"
   },
   {
    "duration": 19,
    "start_time": "2023-06-14T21:41:14.948Z"
   },
   {
    "duration": 199,
    "start_time": "2023-06-14T21:41:14.971Z"
   },
   {
    "duration": 205,
    "start_time": "2023-06-14T21:41:15.172Z"
   },
   {
    "duration": 265,
    "start_time": "2023-06-14T21:41:15.379Z"
   },
   {
    "duration": 14,
    "start_time": "2023-06-14T21:41:15.652Z"
   },
   {
    "duration": 255,
    "start_time": "2023-06-14T21:41:15.668Z"
   },
   {
    "duration": 37,
    "start_time": "2023-06-14T21:41:15.924Z"
   },
   {
    "duration": 6,
    "start_time": "2023-06-14T21:41:15.963Z"
   },
   {
    "duration": 71,
    "start_time": "2023-06-14T21:41:15.970Z"
   },
   {
    "duration": 19,
    "start_time": "2023-06-14T21:41:16.042Z"
   },
   {
    "duration": 8,
    "start_time": "2023-06-14T21:41:16.063Z"
   },
   {
    "duration": 13,
    "start_time": "2023-06-14T21:41:16.072Z"
   },
   {
    "duration": 7,
    "start_time": "2023-06-14T21:41:16.087Z"
   },
   {
    "duration": 40,
    "start_time": "2023-06-14T21:41:16.095Z"
   },
   {
    "duration": 364,
    "start_time": "2023-06-14T21:41:16.137Z"
   },
   {
    "duration": 22,
    "start_time": "2023-06-14T21:41:16.502Z"
   },
   {
    "duration": 105,
    "start_time": "2023-06-14T21:41:16.526Z"
   },
   {
    "duration": 22900,
    "start_time": "2023-06-14T21:41:16.632Z"
   },
   {
    "duration": 4,
    "start_time": "2023-06-14T21:41:39.534Z"
   },
   {
    "duration": 626,
    "start_time": "2023-06-14T21:41:39.540Z"
   },
   {
    "duration": 619,
    "start_time": "2023-06-14T21:41:40.168Z"
   },
   {
    "duration": 1296,
    "start_time": "2023-06-14T21:41:40.789Z"
   },
   {
    "duration": 4,
    "start_time": "2023-06-14T21:41:42.086Z"
   },
   {
    "duration": 11,
    "start_time": "2023-06-14T21:41:42.092Z"
   },
   {
    "duration": 13,
    "start_time": "2023-06-14T21:41:42.105Z"
   },
   {
    "duration": 7,
    "start_time": "2023-06-14T21:41:42.119Z"
   },
   {
    "duration": 41,
    "start_time": "2023-06-14T21:41:42.128Z"
   },
   {
    "duration": 214,
    "start_time": "2023-06-14T21:41:42.171Z"
   },
   {
    "duration": 86,
    "start_time": "2023-06-14T21:41:42.386Z"
   },
   {
    "duration": 9329,
    "start_time": "2023-06-14T21:41:42.474Z"
   },
   {
    "duration": 4,
    "start_time": "2023-06-14T21:41:51.804Z"
   },
   {
    "duration": 205,
    "start_time": "2023-06-14T21:41:51.810Z"
   },
   {
    "duration": 186,
    "start_time": "2023-06-14T21:41:52.017Z"
   },
   {
    "duration": 423,
    "start_time": "2023-06-14T21:41:52.205Z"
   },
   {
    "duration": 46,
    "start_time": "2023-06-14T21:41:52.630Z"
   },
   {
    "duration": 711,
    "start_time": "2023-06-14T21:41:52.753Z"
   },
   {
    "duration": 172,
    "start_time": "2023-06-14T21:41:53.465Z"
   },
   {
    "duration": 1693,
    "start_time": "2023-06-15T10:24:03.952Z"
   },
   {
    "duration": 166,
    "start_time": "2023-06-15T10:24:05.647Z"
   },
   {
    "duration": 4,
    "start_time": "2023-06-15T10:24:05.814Z"
   },
   {
    "duration": 22,
    "start_time": "2023-06-15T10:24:05.820Z"
   },
   {
    "duration": 51,
    "start_time": "2023-06-15T10:24:05.843Z"
   },
   {
    "duration": 11,
    "start_time": "2023-06-15T10:24:05.896Z"
   },
   {
    "duration": 36,
    "start_time": "2023-06-15T10:24:05.908Z"
   },
   {
    "duration": 13,
    "start_time": "2023-06-15T10:24:05.946Z"
   },
   {
    "duration": 29,
    "start_time": "2023-06-15T10:24:05.960Z"
   },
   {
    "duration": 24,
    "start_time": "2023-06-15T10:24:05.991Z"
   },
   {
    "duration": 10,
    "start_time": "2023-06-15T10:24:06.017Z"
   },
   {
    "duration": 12,
    "start_time": "2023-06-15T10:24:06.029Z"
   },
   {
    "duration": 22,
    "start_time": "2023-06-15T10:24:06.043Z"
   },
   {
    "duration": 34,
    "start_time": "2023-06-15T10:24:06.066Z"
   },
   {
    "duration": 38,
    "start_time": "2023-06-15T10:24:06.101Z"
   },
   {
    "duration": 22,
    "start_time": "2023-06-15T10:24:21.012Z"
   },
   {
    "duration": 23,
    "start_time": "2023-06-15T10:24:27.051Z"
   },
   {
    "duration": 6,
    "start_time": "2023-06-15T10:24:27.729Z"
   },
   {
    "duration": 6,
    "start_time": "2023-06-15T10:24:28.161Z"
   },
   {
    "duration": 97,
    "start_time": "2023-06-15T10:25:13.483Z"
   },
   {
    "duration": 3,
    "start_time": "2023-06-15T10:25:36.308Z"
   },
   {
    "duration": 12,
    "start_time": "2023-06-15T10:25:38.874Z"
   },
   {
    "duration": 6,
    "start_time": "2023-06-15T10:25:39.313Z"
   },
   {
    "duration": 520,
    "start_time": "2023-06-15T10:25:42.932Z"
   }
  ],
  "kernelspec": {
   "display_name": "Python 3 (ipykernel)",
   "language": "python",
   "name": "python3"
  },
  "language_info": {
   "codemirror_mode": {
    "name": "ipython",
    "version": 3
   },
   "file_extension": ".py",
   "mimetype": "text/x-python",
   "name": "python",
   "nbconvert_exporter": "python",
   "pygments_lexer": "ipython3",
   "version": "3.11.4"
  },
  "toc": {
   "base_numbering": 1,
   "nav_menu": {},
   "number_sections": true,
   "sideBar": true,
   "skip_h1_title": true,
   "title_cell": "Содержание",
   "title_sidebar": "Contents",
   "toc_cell": true,
   "toc_position": {
    "height": "calc(100% - 180px)",
    "left": "10px",
    "top": "150px",
    "width": "224px"
   },
   "toc_section_display": true,
   "toc_window_display": true
  }
 },
 "nbformat": 4,
 "nbformat_minor": 2
}
